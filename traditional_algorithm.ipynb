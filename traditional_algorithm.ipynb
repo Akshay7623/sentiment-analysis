{
 "cells": [
  {
   "cell_type": "code",
   "execution_count": 1,
   "metadata": {},
   "outputs": [
    {
     "name": "stdout",
     "output_type": "stream",
     "text": [
      "Requirement already satisfied: seaborn in c:\\users\\merak\\appdata\\local\\programs\\python\\python310\\lib\\site-packages (0.13.2)\n",
      "Requirement already satisfied: scikit-learn in c:\\users\\merak\\appdata\\local\\programs\\python\\python310\\lib\\site-packages (1.6.1)\n",
      "Requirement already satisfied: matplotlib in c:\\users\\merak\\appdata\\local\\programs\\python\\python310\\lib\\site-packages (3.10.3)\n",
      "Requirement already satisfied: numpy in c:\\users\\merak\\appdata\\local\\programs\\python\\python310\\lib\\site-packages (2.1.3)\n",
      "Requirement already satisfied: pandas in c:\\users\\merak\\appdata\\local\\programs\\python\\python310\\lib\\site-packages (2.2.3)\n",
      "Requirement already satisfied: scipy>=1.6.0 in c:\\users\\merak\\appdata\\local\\programs\\python\\python310\\lib\\site-packages (from scikit-learn) (1.15.3)\n",
      "Requirement already satisfied: joblib>=1.2.0 in c:\\users\\merak\\appdata\\local\\programs\\python\\python310\\lib\\site-packages (from scikit-learn) (1.5.1)\n",
      "Requirement already satisfied: threadpoolctl>=3.1.0 in c:\\users\\merak\\appdata\\local\\programs\\python\\python310\\lib\\site-packages (from scikit-learn) (3.6.0)\n",
      "Requirement already satisfied: contourpy>=1.0.1 in c:\\users\\merak\\appdata\\local\\programs\\python\\python310\\lib\\site-packages (from matplotlib) (1.3.2)\n",
      "Requirement already satisfied: cycler>=0.10 in c:\\users\\merak\\appdata\\local\\programs\\python\\python310\\lib\\site-packages (from matplotlib) (0.12.1)\n",
      "Requirement already satisfied: fonttools>=4.22.0 in c:\\users\\merak\\appdata\\local\\programs\\python\\python310\\lib\\site-packages (from matplotlib) (4.58.1)\n",
      "Requirement already satisfied: kiwisolver>=1.3.1 in c:\\users\\merak\\appdata\\local\\programs\\python\\python310\\lib\\site-packages (from matplotlib) (1.4.8)\n",
      "Requirement already satisfied: packaging>=20.0 in c:\\users\\merak\\appdata\\local\\programs\\python\\python310\\lib\\site-packages (from matplotlib) (25.0)\n",
      "Requirement already satisfied: pillow>=8 in c:\\users\\merak\\appdata\\local\\programs\\python\\python310\\lib\\site-packages (from matplotlib) (11.0.0)\n",
      "Requirement already satisfied: pyparsing>=2.3.1 in c:\\users\\merak\\appdata\\local\\programs\\python\\python310\\lib\\site-packages (from matplotlib) (3.2.3)\n",
      "Requirement already satisfied: python-dateutil>=2.7 in c:\\users\\merak\\appdata\\local\\programs\\python\\python310\\lib\\site-packages (from matplotlib) (2.9.0.post0)\n",
      "Requirement already satisfied: pytz>=2020.1 in c:\\users\\merak\\appdata\\local\\programs\\python\\python310\\lib\\site-packages (from pandas) (2025.2)\n",
      "Requirement already satisfied: tzdata>=2022.7 in c:\\users\\merak\\appdata\\local\\programs\\python\\python310\\lib\\site-packages (from pandas) (2025.2)\n",
      "Requirement already satisfied: six>=1.5 in c:\\users\\merak\\appdata\\local\\programs\\python\\python310\\lib\\site-packages (from python-dateutil>=2.7->matplotlib) (1.17.0)\n"
     ]
    }
   ],
   "source": [
    "# INSTALLING REQUIRED PACKAGES\n",
    "!pip install seaborn scikit-learn matplotlib numpy pandas"
   ]
  },
  {
   "cell_type": "markdown",
   "metadata": {
    "id": "FdHqQD_Ed5T8"
   },
   "source": [
    "# **DATA COLLECTION AND DATA CLEANING**"
   ]
  },
  {
   "cell_type": "code",
   "execution_count": 2,
   "metadata": {
    "id": "poH46arUIfqS"
   },
   "outputs": [],
   "source": [
    "# import all required python packages\n",
    "import numpy as np\n",
    "import pandas as pd\n",
    "from sklearn.metrics import accuracy_score, classification_report, confusion_matrix\n",
    "from sklearn.linear_model import LogisticRegression\n",
    "from sklearn.svm import LinearSVC\n",
    "import matplotlib.pyplot as plt\n",
    "import seaborn as sns\n",
    "import re"
   ]
  },
  {
   "cell_type": "code",
   "execution_count": 3,
   "metadata": {
    "colab": {
     "base_uri": "https://localhost:8080/"
    },
    "id": "npydLny4InuL",
    "outputId": "c7c8327e-cd52-4bd5-e745-61b2f376a1e6"
   },
   "outputs": [],
   "source": [
    "# connect with google drive\n",
    "# from google.colab import drive\n",
    "# drive.mount('/content/drive')\n",
    "# root_path = \"/content/drive/MyDrive/sentiment_analysis\""
   ]
  },
  {
   "cell_type": "code",
   "execution_count": 4,
   "metadata": {},
   "outputs": [],
   "source": [
    "root_path = \"data\""
   ]
  },
  {
   "cell_type": "code",
   "execution_count": 5,
   "metadata": {
    "id": "s1oJewdDIn49"
   },
   "outputs": [],
   "source": [
    "# load all the datasets\n",
    "reddit_df = pd.read_csv(\"https://www.dropbox.com/scl/fi/x3ihbcwdoy5azxthkul1i/Reddit_Data37.25k.csv?rlkey=o1ex5vglm8ysk9j5abbtemfef&st=zs3a6mc5&raw=1\")  # https://www.kaggle.com/code/chanchal24/twitter-and-reddit-sentimental-analysis-dataset\n",
    "tw_df1 = pd.read_csv(\"https://www.dropbox.com/scl/fi/loyeb7lmtqg5gbhsp621o/Twitter_Data1600k.csv?rlkey=6in65v1qdng777553exb5gqtb&st=m4opzov5&raw=1\")     # https://www.kaggle.com/code/chanchal24/twitter-and-reddit-sentimental-analysis-dataset\n",
    "tw_df2 = pd.read_csv(\"https://www.dropbox.com/scl/fi/n91548wtveukns7g53tli/dataset937.csv?rlkey=ltbwyjjjrr65et8gttrg3aqo0&st=bgsrjdje&raw=1\")            #\n",
    "tw_df3 = pd.read_csv(\"https://www.dropbox.com/scl/fi/pt9nemxc8zizs3k1813hd/sentiment_analysis436k.csv?rlkey=mcncdyrhej31722fhcymim7gm&st=1ticvusi&raw=1\", encoding='ISO-8859-1')\n",
    "tw_df4 = pd.read_csv(\"https://www.dropbox.com/scl/fi/861vgdztbv28srdq80pqw/training.1600k.processed.noemoticon.csv?rlkey=gjsnx3c3lebtjnqtjlwhxhpe3&st=fgc9lpte&raw=1\", encoding='ISO-8859-1',names=[\"label\",\"id\",\"timestamp\",\"Query\",\"user\",\"text\"]) # https://www.kaggle.com/datasets/kazanova/sentiment140/data\n",
    "tw_df5 = pd.read_csv(\"https://www.dropbox.com/scl/fi/spjnzfuhllll3c3vxpfp3/twitter_training10k.csv?rlkey=4y1xuo9mblw25we27w4xa6nhx&st=qvc7kivv&raw=1\", names=[\"id\", \"temp\",\"label\",\"text\"])"
   ]
  },
  {
   "cell_type": "code",
   "execution_count": 6,
   "metadata": {
    "colab": {
     "base_uri": "https://localhost:8080/"
    },
    "id": "Y95jcZOLI_uI",
    "outputId": "10d0cc45-82f7-42ac-8464-77fae6d3c812"
   },
   "outputs": [
    {
     "name": "stdout",
     "output_type": "stream",
     "text": [
      "number of rows in reddit_df  37249\n",
      "number of rows in tw_df1  162980\n",
      "number of rows in tw_df2  937854\n",
      "number of rows in tw_df3  1048572\n",
      "number of rows in tw_df4  1600000\n",
      "number of rows in tw_df5  74682\n",
      "total is number of rows are  3861337\n"
     ]
    }
   ],
   "source": [
    "# printing number of rows\n",
    "print(\"number of rows in reddit_df \",len(reddit_df))\n",
    "print(\"number of rows in tw_df1 \",len(tw_df1))\n",
    "print(\"number of rows in tw_df2 \",len(tw_df2))\n",
    "print(\"number of rows in tw_df3 \",len(tw_df3))\n",
    "print(\"number of rows in tw_df4 \",len(tw_df4))\n",
    "print(\"number of rows in tw_df5 \",len(tw_df5))\n",
    "print(\"total is number of rows are \", len(reddit_df) + len(tw_df1) + len(tw_df2) + len(tw_df3) + len(tw_df4) + len(tw_df5))"
   ]
  },
  {
   "cell_type": "markdown",
   "metadata": {
    "id": "Nuu4SF6jJTUz"
   },
   "source": [
    "## **Cleaning reddit_df**"
   ]
  },
  {
   "cell_type": "code",
   "execution_count": 7,
   "metadata": {
    "colab": {
     "base_uri": "https://localhost:8080/",
     "height": 363
    },
    "id": "B_JC_pe4JWKw",
    "outputId": "be1eb988-6a4b-4873-8dd7-0bc33ce8dd2d"
   },
   "outputs": [
    {
     "data": {
      "text/html": [
       "<div>\n",
       "<style scoped>\n",
       "    .dataframe tbody tr th:only-of-type {\n",
       "        vertical-align: middle;\n",
       "    }\n",
       "\n",
       "    .dataframe tbody tr th {\n",
       "        vertical-align: top;\n",
       "    }\n",
       "\n",
       "    .dataframe thead th {\n",
       "        text-align: right;\n",
       "    }\n",
       "</style>\n",
       "<table border=\"1\" class=\"dataframe\">\n",
       "  <thead>\n",
       "    <tr style=\"text-align: right;\">\n",
       "      <th></th>\n",
       "      <th>text</th>\n",
       "      <th>label</th>\n",
       "    </tr>\n",
       "  </thead>\n",
       "  <tbody>\n",
       "    <tr>\n",
       "      <th>0</th>\n",
       "      <td>family mormon have never tried explain them t...</td>\n",
       "      <td>1</td>\n",
       "    </tr>\n",
       "    <tr>\n",
       "      <th>1</th>\n",
       "      <td>buddhism has very much lot compatible with chr...</td>\n",
       "      <td>1</td>\n",
       "    </tr>\n",
       "    <tr>\n",
       "      <th>2</th>\n",
       "      <td>seriously don say thing first all they won get...</td>\n",
       "      <td>-1</td>\n",
       "    </tr>\n",
       "    <tr>\n",
       "      <th>3</th>\n",
       "      <td>what you have learned yours and only yours wha...</td>\n",
       "      <td>0</td>\n",
       "    </tr>\n",
       "    <tr>\n",
       "      <th>4</th>\n",
       "      <td>for your own benefit you may want read living ...</td>\n",
       "      <td>1</td>\n",
       "    </tr>\n",
       "    <tr>\n",
       "      <th>5</th>\n",
       "      <td>you should all sit down together and watch the...</td>\n",
       "      <td>-1</td>\n",
       "    </tr>\n",
       "    <tr>\n",
       "      <th>6</th>\n",
       "      <td>was teens when discovered zen meditation was ...</td>\n",
       "      <td>1</td>\n",
       "    </tr>\n",
       "    <tr>\n",
       "      <th>7</th>\n",
       "      <td>jesus was zen meets jew</td>\n",
       "      <td>0</td>\n",
       "    </tr>\n",
       "    <tr>\n",
       "      <th>8</th>\n",
       "      <td>there are two varieties christians dogmatic th...</td>\n",
       "      <td>-1</td>\n",
       "    </tr>\n",
       "    <tr>\n",
       "      <th>9</th>\n",
       "      <td>dont worry about trying explain yourself just ...</td>\n",
       "      <td>1</td>\n",
       "    </tr>\n",
       "  </tbody>\n",
       "</table>\n",
       "</div>"
      ],
      "text/plain": [
       "                                                text  label\n",
       "0   family mormon have never tried explain them t...      1\n",
       "1  buddhism has very much lot compatible with chr...      1\n",
       "2  seriously don say thing first all they won get...     -1\n",
       "3  what you have learned yours and only yours wha...      0\n",
       "4  for your own benefit you may want read living ...      1\n",
       "5  you should all sit down together and watch the...     -1\n",
       "6   was teens when discovered zen meditation was ...      1\n",
       "7                           jesus was zen meets jew       0\n",
       "8  there are two varieties christians dogmatic th...     -1\n",
       "9  dont worry about trying explain yourself just ...      1"
      ]
     },
     "execution_count": 7,
     "metadata": {},
     "output_type": "execute_result"
    }
   ],
   "source": [
    "# Rename column name\n",
    "reddit_df = reddit_df.rename(columns={\"clean_comment\":\"text\",\"category\":\"label\"})\n",
    "reddit_df.head(10)"
   ]
  },
  {
   "cell_type": "code",
   "execution_count": 8,
   "metadata": {
    "id": "RZoUmd5tJYsO"
   },
   "outputs": [],
   "source": [
    "# Removing neutral type data\n",
    "reddit_df = reddit_df[reddit_df[\"label\"] != 0]"
   ]
  },
  {
   "cell_type": "code",
   "execution_count": 9,
   "metadata": {
    "id": "0NHBM4dn1Die"
   },
   "outputs": [],
   "source": [
    "# Type : 1 for positive and 0 for negative sentiments\n",
    "reddit_df[\"label\"] = reddit_df[\"label\"].replace({-1 : 0})"
   ]
  },
  {
   "cell_type": "code",
   "execution_count": 10,
   "metadata": {
    "colab": {
     "base_uri": "https://localhost:8080/",
     "height": 178
    },
    "id": "5Gi2JFT71Sjo",
    "outputId": "b941ae36-043d-4082-c1c2-669fbbeaf594"
   },
   "outputs": [
    {
     "data": {
      "text/plain": [
       "label\n",
       "1    15830\n",
       "0     8277\n",
       "Name: count, dtype: int64"
      ]
     },
     "execution_count": 10,
     "metadata": {},
     "output_type": "execute_result"
    }
   ],
   "source": [
    "reddit_df[\"label\"].value_counts()"
   ]
  },
  {
   "cell_type": "markdown",
   "metadata": {
    "id": "SPq6Onkja1fQ"
   },
   "source": [
    "## **Cleaning tw_df1**"
   ]
  },
  {
   "cell_type": "code",
   "execution_count": 11,
   "metadata": {
    "id": "rIfMrBDQa4Sr"
   },
   "outputs": [],
   "source": [
    "# Rename column name as content and type\n",
    "tw_df1 = tw_df1.rename(columns={\"clean_text\":\"text\",\"category\":\"label\"})\n",
    "tw_df1 = tw_df1[tw_df1[\"label\"].isin([-1.0, 1.0])]\n",
    "\n",
    "tw_df1[\"label\"]  = tw_df1[\"label\"].replace({-1.0:0, 1.0:1})"
   ]
  },
  {
   "cell_type": "code",
   "execution_count": 12,
   "metadata": {
    "id": "x4d1zIh6a7Fd"
   },
   "outputs": [],
   "source": [
    "# Converting float to int data type\n",
    "tw_df1[\"label\"] = tw_df1[\"label\"].astype(int)"
   ]
  },
  {
   "cell_type": "code",
   "execution_count": 13,
   "metadata": {
    "id": "I5XkKI8Oa7Rc"
   },
   "outputs": [],
   "source": [
    "# Drop all the null values\n",
    "tw_df1 = tw_df1.dropna()"
   ]
  },
  {
   "cell_type": "code",
   "execution_count": 14,
   "metadata": {
    "id": "tc00G8qTa9I5"
   },
   "outputs": [],
   "source": [
    "# Drop duplicates\n",
    "tw_df1 = tw_df1.drop_duplicates()"
   ]
  },
  {
   "cell_type": "markdown",
   "metadata": {
    "id": "nnVUhPV0bIVv"
   },
   "source": [
    "## **Cleaning tw_df2**"
   ]
  },
  {
   "cell_type": "code",
   "execution_count": 15,
   "metadata": {
    "id": "8W5M04vebKhc"
   },
   "outputs": [],
   "source": [
    "# remove other languages except english\n",
    "tw_df2 = tw_df2[tw_df2[\"Language\"] == \"en\"]\n",
    "tw_df2 = tw_df2.drop(columns=[\"Language\"])"
   ]
  },
  {
   "cell_type": "code",
   "execution_count": 16,
   "metadata": {
    "id": "rbnwZAqGbL5K"
   },
   "outputs": [],
   "source": [
    "# Rename column name as content and type\n",
    "tw_df2 = tw_df2.rename(columns={\"Text\":\"text\",\"Label\":\"label\"})"
   ]
  },
  {
   "cell_type": "code",
   "execution_count": 17,
   "metadata": {
    "colab": {
     "base_uri": "https://localhost:8080/"
    },
    "id": "Xu9s7EKobNtO",
    "outputId": "a4029851-3f20-4893-b3a9-a747a9a80e7b"
   },
   "outputs": [
    {
     "name": "stderr",
     "output_type": "stream",
     "text": [
      "C:\\Users\\merak\\AppData\\Local\\Temp\\ipykernel_18092\\3744228038.py:1: FutureWarning: Downcasting behavior in `replace` is deprecated and will be removed in a future version. To retain the old behavior, explicitly call `result.infer_objects(copy=False)`. To opt-in to the future behavior, set `pd.set_option('future.no_silent_downcasting', True)`\n",
      "  tw_df2[\"label\"] = tw_df2[\"label\"].replace({\"positive\":1,\"negative\":0,\"litigious\":-1,\"uncertainty\":2})\n"
     ]
    }
   ],
   "source": [
    "tw_df2[\"label\"] = tw_df2[\"label\"].replace({\"positive\":1,\"negative\":0,\"litigious\":-1,\"uncertainty\":2})"
   ]
  },
  {
   "cell_type": "code",
   "execution_count": 18,
   "metadata": {
    "id": "bKaAY0KhbPga"
   },
   "outputs": [],
   "source": [
    "# Remove other data except negative and positive\n",
    "tw_df2 = tw_df2[tw_df2[\"label\"].isin([1, 0])]"
   ]
  },
  {
   "cell_type": "code",
   "execution_count": 19,
   "metadata": {
    "id": "AMo89U2EbSXZ"
   },
   "outputs": [],
   "source": [
    "# Drop all null values\n",
    "tw_df2 = tw_df2.dropna()"
   ]
  },
  {
   "cell_type": "code",
   "execution_count": 20,
   "metadata": {
    "id": "qPco2Hi8bZNT"
   },
   "outputs": [],
   "source": [
    "# Remove all the duplicates\n",
    "tw_df2 = tw_df2.drop_duplicates()"
   ]
  },
  {
   "cell_type": "markdown",
   "metadata": {
    "id": "IWXwjtTkbhbi"
   },
   "source": [
    "## **Cleaning tw_df3 dataset**"
   ]
  },
  {
   "cell_type": "code",
   "execution_count": 21,
   "metadata": {
    "id": "eg1ieZ9hbij8"
   },
   "outputs": [],
   "source": [
    "# Rename column names\n",
    "tw_df3.columns = tw_df3.columns.str.strip()\n",
    "tw_df3 = tw_df3.rename(columns={\"text of the tweet\":\"text\",\"polarity of tweet\":\"label\"})"
   ]
  },
  {
   "cell_type": "code",
   "execution_count": 22,
   "metadata": {
    "id": "FwjpYRUibo-Q"
   },
   "outputs": [],
   "source": [
    "# Remove unwanted columns\n",
    "tw_df3 = tw_df3.drop(columns=[\"id of the tweet\",\"date of the tweet\",\"user\",\"query\"])"
   ]
  },
  {
   "cell_type": "code",
   "execution_count": 23,
   "metadata": {
    "id": "pXexv_G4bwEK"
   },
   "outputs": [],
   "source": [
    "# Replacing positive data as 1\n",
    "tw_df3[\"label\"] = tw_df3[\"label\"].replace({4:1})"
   ]
  },
  {
   "cell_type": "code",
   "execution_count": 24,
   "metadata": {
    "id": "hqESm6KDbxkx"
   },
   "outputs": [],
   "source": [
    "tw_df3 = tw_df3.dropna()"
   ]
  },
  {
   "cell_type": "code",
   "execution_count": 25,
   "metadata": {
    "id": "IUWq5DXhb2BP"
   },
   "outputs": [],
   "source": [
    "# Remove duplicates\n",
    "tw_df3 = tw_df3.drop_duplicates()"
   ]
  },
  {
   "cell_type": "code",
   "execution_count": 26,
   "metadata": {
    "colab": {
     "base_uri": "https://localhost:8080/",
     "height": 178
    },
    "id": "2mlLzSRXpukf",
    "outputId": "5ed1b3ba-af4b-4c89-e224-54e8a585b365"
   },
   "outputs": [
    {
     "data": {
      "text/plain": [
       "label\n",
       "0    790181\n",
       "1    246727\n",
       "Name: count, dtype: int64"
      ]
     },
     "execution_count": 26,
     "metadata": {},
     "output_type": "execute_result"
    }
   ],
   "source": [
    "tw_df3[\"label\"].value_counts()"
   ]
  },
  {
   "cell_type": "markdown",
   "metadata": {
    "id": "ZsTn9EGpcOzV"
   },
   "source": [
    "## **Cleaning tw_df4 dataset**"
   ]
  },
  {
   "cell_type": "code",
   "execution_count": 27,
   "metadata": {
    "id": "r-wz4JiucaUF"
   },
   "outputs": [],
   "source": [
    "# Drop all unwanted columns\n",
    "tw_df4 = tw_df4.drop(columns=[\"id\",\"timestamp\",\"Query\",\"user\"])"
   ]
  },
  {
   "cell_type": "code",
   "execution_count": 28,
   "metadata": {
    "id": "WpEoA8tmcAiq"
   },
   "outputs": [],
   "source": [
    "# Replacing positive type as 1\n",
    "tw_df4[\"label\"] = tw_df4[\"label\"].replace({4:1})"
   ]
  },
  {
   "cell_type": "code",
   "execution_count": 29,
   "metadata": {
    "colab": {
     "base_uri": "https://localhost:8080/",
     "height": 178
    },
    "id": "uGxSuOJmcdLc",
    "outputId": "892f3e16-b599-4416-c263-23b15560c59b"
   },
   "outputs": [
    {
     "data": {
      "text/plain": [
       "label\n",
       "0    800000\n",
       "1    800000\n",
       "Name: count, dtype: int64"
      ]
     },
     "execution_count": 29,
     "metadata": {},
     "output_type": "execute_result"
    }
   ],
   "source": [
    "tw_df4[\"label\"].value_counts()"
   ]
  },
  {
   "cell_type": "code",
   "execution_count": 30,
   "metadata": {
    "id": "4Y4cbk2ecCgx"
   },
   "outputs": [],
   "source": [
    "# Drop all null values\n",
    "tw_df4 = tw_df4.dropna()"
   ]
  },
  {
   "cell_type": "code",
   "execution_count": 31,
   "metadata": {
    "id": "LEvEuWHqci0k"
   },
   "outputs": [],
   "source": [
    "# Drop duplicates\n",
    "tw_df4 = tw_df4.drop_duplicates()"
   ]
  },
  {
   "cell_type": "markdown",
   "metadata": {
    "id": "WpM2JWSWctJD"
   },
   "source": [
    "## **Cleaning tw_df5 dataset**"
   ]
  },
  {
   "cell_type": "code",
   "execution_count": 32,
   "metadata": {
    "id": "DTaAs2YEcuHe"
   },
   "outputs": [],
   "source": [
    "# Removing all neutral data\n",
    "tw_df5 = tw_df5[tw_df5[\"label\"].isin([\"Positive\", \"Negative\"])]"
   ]
  },
  {
   "cell_type": "code",
   "execution_count": 33,
   "metadata": {
    "id": "hO5c0cR6cw43"
   },
   "outputs": [],
   "source": [
    "# Remove all unwanted columns\n",
    "tw_df5 = tw_df5.drop(columns=[\"id\",\"temp\"])"
   ]
  },
  {
   "cell_type": "code",
   "execution_count": 34,
   "metadata": {
    "colab": {
     "base_uri": "https://localhost:8080/"
    },
    "id": "U1x4PI8dczVC",
    "outputId": "761fb556-1db5-42ab-d7ff-7be894082205"
   },
   "outputs": [
    {
     "name": "stderr",
     "output_type": "stream",
     "text": [
      "C:\\Users\\merak\\AppData\\Local\\Temp\\ipykernel_18092\\1699998729.py:2: FutureWarning: Downcasting behavior in `replace` is deprecated and will be removed in a future version. To retain the old behavior, explicitly call `result.infer_objects(copy=False)`. To opt-in to the future behavior, set `pd.set_option('future.no_silent_downcasting', True)`\n",
      "  tw_df5[\"label\"] = tw_df5[\"label\"].replace({\"Positive\":1,\"Negative\":0})\n"
     ]
    }
   ],
   "source": [
    "# Replacing positive as 1 and negative as 0\n",
    "tw_df5[\"label\"] = tw_df5[\"label\"].replace({\"Positive\":1,\"Negative\":0})"
   ]
  },
  {
   "cell_type": "code",
   "execution_count": 35,
   "metadata": {
    "id": "JukVCLOZc1ON"
   },
   "outputs": [],
   "source": [
    "# Remove all null values\n",
    "tw_df5 = tw_df5.dropna()"
   ]
  },
  {
   "cell_type": "code",
   "execution_count": 36,
   "metadata": {
    "id": "EwMrJ4ejc47o"
   },
   "outputs": [],
   "source": [
    "# Combine all dataframes\n",
    "final_df = pd.concat([reddit_df, tw_df1,tw_df2,tw_df3,tw_df4,tw_df5],ignore_index=True)"
   ]
  },
  {
   "cell_type": "code",
   "execution_count": 37,
   "metadata": {
    "colab": {
     "base_uri": "https://localhost:8080/",
     "height": 424
    },
    "id": "hj_UaTDec9_6",
    "outputId": "1685a63c-119f-469d-938b-a3fae571035f"
   },
   "outputs": [
    {
     "data": {
      "text/html": [
       "<div>\n",
       "<style scoped>\n",
       "    .dataframe tbody tr th:only-of-type {\n",
       "        vertical-align: middle;\n",
       "    }\n",
       "\n",
       "    .dataframe tbody tr th {\n",
       "        vertical-align: top;\n",
       "    }\n",
       "\n",
       "    .dataframe thead th {\n",
       "        text-align: right;\n",
       "    }\n",
       "</style>\n",
       "<table border=\"1\" class=\"dataframe\">\n",
       "  <thead>\n",
       "    <tr style=\"text-align: right;\">\n",
       "      <th></th>\n",
       "      <th>text</th>\n",
       "      <th>label</th>\n",
       "    </tr>\n",
       "  </thead>\n",
       "  <tbody>\n",
       "    <tr>\n",
       "      <th>0</th>\n",
       "      <td>family mormon have never tried explain them t...</td>\n",
       "      <td>1</td>\n",
       "    </tr>\n",
       "    <tr>\n",
       "      <th>1</th>\n",
       "      <td>buddhism has very much lot compatible with chr...</td>\n",
       "      <td>1</td>\n",
       "    </tr>\n",
       "    <tr>\n",
       "      <th>2</th>\n",
       "      <td>seriously don say thing first all they won get...</td>\n",
       "      <td>0</td>\n",
       "    </tr>\n",
       "    <tr>\n",
       "      <th>3</th>\n",
       "      <td>for your own benefit you may want read living ...</td>\n",
       "      <td>1</td>\n",
       "    </tr>\n",
       "    <tr>\n",
       "      <th>4</th>\n",
       "      <td>you should all sit down together and watch the...</td>\n",
       "      <td>0</td>\n",
       "    </tr>\n",
       "    <tr>\n",
       "      <th>...</th>\n",
       "      <td>...</td>\n",
       "      <td>...</td>\n",
       "    </tr>\n",
       "    <tr>\n",
       "      <th>3285865</th>\n",
       "      <td>Just realized that the Windows partition of my...</td>\n",
       "      <td>1</td>\n",
       "    </tr>\n",
       "    <tr>\n",
       "      <th>3285866</th>\n",
       "      <td>Just realized that my Mac window partition is ...</td>\n",
       "      <td>1</td>\n",
       "    </tr>\n",
       "    <tr>\n",
       "      <th>3285867</th>\n",
       "      <td>Just realized the windows partition of my Mac ...</td>\n",
       "      <td>1</td>\n",
       "    </tr>\n",
       "    <tr>\n",
       "      <th>3285868</th>\n",
       "      <td>Just realized between the windows partition of...</td>\n",
       "      <td>1</td>\n",
       "    </tr>\n",
       "    <tr>\n",
       "      <th>3285869</th>\n",
       "      <td>Just like the windows partition of my Mac is l...</td>\n",
       "      <td>1</td>\n",
       "    </tr>\n",
       "  </tbody>\n",
       "</table>\n",
       "<p>3285870 rows × 2 columns</p>\n",
       "</div>"
      ],
      "text/plain": [
       "                                                      text  label\n",
       "0         family mormon have never tried explain them t...      1\n",
       "1        buddhism has very much lot compatible with chr...      1\n",
       "2        seriously don say thing first all they won get...      0\n",
       "3        for your own benefit you may want read living ...      1\n",
       "4        you should all sit down together and watch the...      0\n",
       "...                                                    ...    ...\n",
       "3285865  Just realized that the Windows partition of my...      1\n",
       "3285866  Just realized that my Mac window partition is ...      1\n",
       "3285867  Just realized the windows partition of my Mac ...      1\n",
       "3285868  Just realized between the windows partition of...      1\n",
       "3285869  Just like the windows partition of my Mac is l...      1\n",
       "\n",
       "[3285870 rows x 2 columns]"
      ]
     },
     "execution_count": 37,
     "metadata": {},
     "output_type": "execute_result"
    }
   ],
   "source": [
    "final_df"
   ]
  },
  {
   "cell_type": "code",
   "execution_count": 38,
   "metadata": {
    "colab": {
     "base_uri": "https://localhost:8080/",
     "height": 147
    },
    "id": "N63DzpH-c-4q",
    "outputId": "a6a4b6db-e4af-4f77-9945-d2f828b4342f"
   },
   "outputs": [
    {
     "data": {
      "text/plain": [
       "text     0\n",
       "label    0\n",
       "dtype: int64"
      ]
     },
     "execution_count": 38,
     "metadata": {},
     "output_type": "execute_result"
    }
   ],
   "source": [
    "# check total null values\n",
    "final_df.isnull().sum()"
   ]
  },
  {
   "cell_type": "code",
   "execution_count": 39,
   "metadata": {
    "id": "z8KJujhodA3I"
   },
   "outputs": [],
   "source": [
    "# Remove all null values\n",
    "final_df.dropna(inplace=True)"
   ]
  },
  {
   "cell_type": "code",
   "execution_count": 40,
   "metadata": {
    "id": "Ln_Jxt3pdQ3t"
   },
   "outputs": [],
   "source": [
    "# Remove all duplicates\n",
    "final_df = final_df.drop_duplicates()"
   ]
  },
  {
   "cell_type": "code",
   "execution_count": 41,
   "metadata": {
    "colab": {
     "base_uri": "https://localhost:8080/",
     "height": 424
    },
    "id": "ToAFI-nxdVu4",
    "outputId": "b40fbd00-32bd-4442-b30f-9a2dad47566f"
   },
   "outputs": [
    {
     "data": {
      "text/html": [
       "<div>\n",
       "<style scoped>\n",
       "    .dataframe tbody tr th:only-of-type {\n",
       "        vertical-align: middle;\n",
       "    }\n",
       "\n",
       "    .dataframe tbody tr th {\n",
       "        vertical-align: top;\n",
       "    }\n",
       "\n",
       "    .dataframe thead th {\n",
       "        text-align: right;\n",
       "    }\n",
       "</style>\n",
       "<table border=\"1\" class=\"dataframe\">\n",
       "  <thead>\n",
       "    <tr style=\"text-align: right;\">\n",
       "      <th></th>\n",
       "      <th>text</th>\n",
       "      <th>label</th>\n",
       "    </tr>\n",
       "  </thead>\n",
       "  <tbody>\n",
       "    <tr>\n",
       "      <th>0</th>\n",
       "      <td>family mormon have never tried explain them t...</td>\n",
       "      <td>1</td>\n",
       "    </tr>\n",
       "    <tr>\n",
       "      <th>1</th>\n",
       "      <td>buddhism has very much lot compatible with chr...</td>\n",
       "      <td>1</td>\n",
       "    </tr>\n",
       "    <tr>\n",
       "      <th>2</th>\n",
       "      <td>seriously don say thing first all they won get...</td>\n",
       "      <td>0</td>\n",
       "    </tr>\n",
       "    <tr>\n",
       "      <th>3</th>\n",
       "      <td>for your own benefit you may want read living ...</td>\n",
       "      <td>1</td>\n",
       "    </tr>\n",
       "    <tr>\n",
       "      <th>4</th>\n",
       "      <td>you should all sit down together and watch the...</td>\n",
       "      <td>0</td>\n",
       "    </tr>\n",
       "    <tr>\n",
       "      <th>...</th>\n",
       "      <td>...</td>\n",
       "      <td>...</td>\n",
       "    </tr>\n",
       "    <tr>\n",
       "      <th>3285865</th>\n",
       "      <td>Just realized that the Windows partition of my...</td>\n",
       "      <td>1</td>\n",
       "    </tr>\n",
       "    <tr>\n",
       "      <th>3285866</th>\n",
       "      <td>Just realized that my Mac window partition is ...</td>\n",
       "      <td>1</td>\n",
       "    </tr>\n",
       "    <tr>\n",
       "      <th>3285867</th>\n",
       "      <td>Just realized the windows partition of my Mac ...</td>\n",
       "      <td>1</td>\n",
       "    </tr>\n",
       "    <tr>\n",
       "      <th>3285868</th>\n",
       "      <td>Just realized between the windows partition of...</td>\n",
       "      <td>1</td>\n",
       "    </tr>\n",
       "    <tr>\n",
       "      <th>3285869</th>\n",
       "      <td>Just like the windows partition of my Mac is l...</td>\n",
       "      <td>1</td>\n",
       "    </tr>\n",
       "  </tbody>\n",
       "</table>\n",
       "<p>2246373 rows × 2 columns</p>\n",
       "</div>"
      ],
      "text/plain": [
       "                                                      text  label\n",
       "0         family mormon have never tried explain them t...      1\n",
       "1        buddhism has very much lot compatible with chr...      1\n",
       "2        seriously don say thing first all they won get...      0\n",
       "3        for your own benefit you may want read living ...      1\n",
       "4        you should all sit down together and watch the...      0\n",
       "...                                                    ...    ...\n",
       "3285865  Just realized that the Windows partition of my...      1\n",
       "3285866  Just realized that my Mac window partition is ...      1\n",
       "3285867  Just realized the windows partition of my Mac ...      1\n",
       "3285868  Just realized between the windows partition of...      1\n",
       "3285869  Just like the windows partition of my Mac is l...      1\n",
       "\n",
       "[2246373 rows x 2 columns]"
      ]
     },
     "execution_count": 41,
     "metadata": {},
     "output_type": "execute_result"
    }
   ],
   "source": [
    "final_df"
   ]
  },
  {
   "cell_type": "code",
   "execution_count": 43,
   "metadata": {
    "id": "-BvnG2vcdYfu"
   },
   "outputs": [],
   "source": [
    "# Save the dataset\n",
    "final_df.to_csv(\"final_data.csv\", index=False)"
   ]
  },
  {
   "cell_type": "markdown",
   "metadata": {
    "id": "WsvZGx3g9Tng"
   },
   "source": [
    "# **Data Visualization**"
   ]
  },
  {
   "cell_type": "code",
   "execution_count": 44,
   "metadata": {
    "id": "mQM6oCaw9kdL"
   },
   "outputs": [],
   "source": [
    "import matplotlib.pyplot as plt\n",
    "import seaborn as sns"
   ]
  },
  {
   "cell_type": "code",
   "execution_count": 45,
   "metadata": {
    "colab": {
     "base_uri": "https://localhost:8080/",
     "height": 541
    },
    "id": "vFkFVkUC9vXA",
    "outputId": "73f9b950-012f-4685-b30b-b8b8439e0cda"
   },
   "outputs": [
    {
     "data": {
      "image/png": "[encoded data removed]",
      "text/plain": [
       "<Figure size 640x480 with 1 Axes>"
      ]
     },
     "metadata": {},
     "output_type": "display_data"
    },
    {
     "name": "stdout",
     "output_type": "stream",
     "text": [
      "label\n",
      "1    1147901\n",
      "0    1098472\n",
      "Name: count, dtype: int64\n"
     ]
    }
   ],
   "source": [
    "sns.countplot(x='label', data=final_df)\n",
    "plt.title('Sentiment Class Distribution')\n",
    "plt.show()\n",
    "print(final_df[\"label\"].value_counts())"
   ]
  },
  {
   "cell_type": "markdown",
   "metadata": {
    "id": "Fh9ZDl9KkM26"
   },
   "source": [
    "# **Data Preprocessing**"
   ]
  },
  {
   "cell_type": "code",
   "execution_count": 46,
   "metadata": {
    "colab": {
     "base_uri": "https://localhost:8080/"
    },
    "id": "Qaz6mLs9kN9G",
    "outputId": "0f403680-7ff0-46f1-b70a-172c38622361"
   },
   "outputs": [
    {
     "name": "stderr",
     "output_type": "stream",
     "text": [
      "[nltk_data] Downloading package punkt to\n",
      "[nltk_data]     C:\\Users\\merak\\AppData\\Roaming\\nltk_data...\n",
      "[nltk_data]   Package punkt is already up-to-date!\n",
      "[nltk_data] Downloading package stopwords to\n",
      "[nltk_data]     C:\\Users\\merak\\AppData\\Roaming\\nltk_data...\n",
      "[nltk_data]   Package stopwords is already up-to-date!\n",
      "[nltk_data] Downloading package wordnet to\n",
      "[nltk_data]     C:\\Users\\merak\\AppData\\Roaming\\nltk_data...\n",
      "[nltk_data]   Package wordnet is already up-to-date!\n",
      "[nltk_data] Downloading package punkt_tab to\n",
      "[nltk_data]     C:\\Users\\merak\\AppData\\Roaming\\nltk_data...\n",
      "[nltk_data]   Package punkt_tab is already up-to-date!\n"
     ]
    }
   ],
   "source": [
    "import nltk\n",
    "nltk.download('punkt')\n",
    "nltk.download('stopwords')\n",
    "nltk.download('wordnet')\n",
    "nltk.download('punkt_tab')\n",
    "import re\n",
    "from nltk.tokenize import word_tokenize\n",
    "from nltk.corpus import stopwords\n",
    "from nltk.stem import WordNetLemmatizer\n",
    "from sklearn.preprocessing import LabelEncoder"
   ]
  },
  {
   "cell_type": "code",
   "execution_count": 47,
   "metadata": {
    "id": "zf5oYSCkkmDn"
   },
   "outputs": [],
   "source": [
    "df = final_df"
   ]
  },
  {
   "cell_type": "code",
   "execution_count": 48,
   "metadata": {
    "colab": {
     "base_uri": "https://localhost:8080/",
     "height": 424
    },
    "id": "oSpeOhw7krUj",
    "outputId": "45af3a13-0851-4a7e-b5f4-de9940c66f20"
   },
   "outputs": [
    {
     "data": {
      "text/html": [
       "<div>\n",
       "<style scoped>\n",
       "    .dataframe tbody tr th:only-of-type {\n",
       "        vertical-align: middle;\n",
       "    }\n",
       "\n",
       "    .dataframe tbody tr th {\n",
       "        vertical-align: top;\n",
       "    }\n",
       "\n",
       "    .dataframe thead th {\n",
       "        text-align: right;\n",
       "    }\n",
       "</style>\n",
       "<table border=\"1\" class=\"dataframe\">\n",
       "  <thead>\n",
       "    <tr style=\"text-align: right;\">\n",
       "      <th></th>\n",
       "      <th>text</th>\n",
       "      <th>label</th>\n",
       "    </tr>\n",
       "  </thead>\n",
       "  <tbody>\n",
       "    <tr>\n",
       "      <th>0</th>\n",
       "      <td>family mormon have never tried explain them t...</td>\n",
       "      <td>1</td>\n",
       "    </tr>\n",
       "    <tr>\n",
       "      <th>1</th>\n",
       "      <td>buddhism has very much lot compatible with chr...</td>\n",
       "      <td>1</td>\n",
       "    </tr>\n",
       "    <tr>\n",
       "      <th>2</th>\n",
       "      <td>seriously don say thing first all they won get...</td>\n",
       "      <td>0</td>\n",
       "    </tr>\n",
       "    <tr>\n",
       "      <th>3</th>\n",
       "      <td>for your own benefit you may want read living ...</td>\n",
       "      <td>1</td>\n",
       "    </tr>\n",
       "    <tr>\n",
       "      <th>4</th>\n",
       "      <td>you should all sit down together and watch the...</td>\n",
       "      <td>0</td>\n",
       "    </tr>\n",
       "    <tr>\n",
       "      <th>...</th>\n",
       "      <td>...</td>\n",
       "      <td>...</td>\n",
       "    </tr>\n",
       "    <tr>\n",
       "      <th>3285865</th>\n",
       "      <td>Just realized that the Windows partition of my...</td>\n",
       "      <td>1</td>\n",
       "    </tr>\n",
       "    <tr>\n",
       "      <th>3285866</th>\n",
       "      <td>Just realized that my Mac window partition is ...</td>\n",
       "      <td>1</td>\n",
       "    </tr>\n",
       "    <tr>\n",
       "      <th>3285867</th>\n",
       "      <td>Just realized the windows partition of my Mac ...</td>\n",
       "      <td>1</td>\n",
       "    </tr>\n",
       "    <tr>\n",
       "      <th>3285868</th>\n",
       "      <td>Just realized between the windows partition of...</td>\n",
       "      <td>1</td>\n",
       "    </tr>\n",
       "    <tr>\n",
       "      <th>3285869</th>\n",
       "      <td>Just like the windows partition of my Mac is l...</td>\n",
       "      <td>1</td>\n",
       "    </tr>\n",
       "  </tbody>\n",
       "</table>\n",
       "<p>2246373 rows × 2 columns</p>\n",
       "</div>"
      ],
      "text/plain": [
       "                                                      text  label\n",
       "0         family mormon have never tried explain them t...      1\n",
       "1        buddhism has very much lot compatible with chr...      1\n",
       "2        seriously don say thing first all they won get...      0\n",
       "3        for your own benefit you may want read living ...      1\n",
       "4        you should all sit down together and watch the...      0\n",
       "...                                                    ...    ...\n",
       "3285865  Just realized that the Windows partition of my...      1\n",
       "3285866  Just realized that my Mac window partition is ...      1\n",
       "3285867  Just realized the windows partition of my Mac ...      1\n",
       "3285868  Just realized between the windows partition of...      1\n",
       "3285869  Just like the windows partition of my Mac is l...      1\n",
       "\n",
       "[2246373 rows x 2 columns]"
      ]
     },
     "execution_count": 48,
     "metadata": {},
     "output_type": "execute_result"
    }
   ],
   "source": [
    "df"
   ]
  },
  {
   "cell_type": "code",
   "execution_count": 49,
   "metadata": {
    "colab": {
     "base_uri": "https://localhost:8080/"
    },
    "id": "MA4I2398krm-",
    "outputId": "68e8a790-0e09-4361-8c59-0f5528a45f92"
   },
   "outputs": [
    {
     "name": "stdout",
     "output_type": "stream",
     "text": [
      "Initial data shape: (2246373, 2)\n"
     ]
    }
   ],
   "source": [
    "print(\"Initial data shape:\", df.shape)"
   ]
  },
  {
   "cell_type": "code",
   "execution_count": 50,
   "metadata": {
    "id": "Z11rGtoKk0BK"
   },
   "outputs": [],
   "source": [
    "def clean_text(text):\n",
    "    text = text.lower()  # Lowercase\n",
    "    text = re.sub(r'[^a-zA-Z\\s]', '', text)  # Remove punctuation, numbers, symbols\n",
    "    text = re.sub(r'\\s+', ' ', text).strip()  # Normalize whitespace\n",
    "    return text\n",
    "\n",
    "stop_words = set(stopwords.words('english'))\n",
    "\n",
    "lemmatizer = WordNetLemmatizer()\n",
    "\n",
    "def tokenize_and_remove_stopwords(text):\n",
    "    tokens = word_tokenize(text)\n",
    "    return [word for word in tokens if word not in stop_words]\n",
    "\n",
    "def lemmatize_words(tokens):\n",
    "    return [lemmatizer.lemmatize(word) for word in tokens]"
   ]
  },
  {
   "cell_type": "code",
   "execution_count": 51,
   "metadata": {
    "colab": {
     "base_uri": "https://localhost:8080/"
    },
    "id": "lJSET4_Hk3GY",
    "outputId": "58c4359a-16e0-4d2f-a09e-ff8941050f94"
   },
   "outputs": [
    {
     "name": "stderr",
     "output_type": "stream",
     "text": [
      "C:\\Users\\merak\\AppData\\Local\\Temp\\ipykernel_18092\\4280857927.py:1: SettingWithCopyWarning: \n",
      "A value is trying to be set on a copy of a slice from a DataFrame.\n",
      "Try using .loc[row_indexer,col_indexer] = value instead\n",
      "\n",
      "See the caveats in the documentation: https://pandas.pydata.org/pandas-docs/stable/user_guide/indexing.html#returning-a-view-versus-a-copy\n",
      "  df['text'] = df['text'].astype(str).apply(clean_text)\n"
     ]
    }
   ],
   "source": [
    "df['text'] = df['text'].astype(str).apply(clean_text)"
   ]
  },
  {
   "cell_type": "code",
   "execution_count": 52,
   "metadata": {
    "colab": {
     "base_uri": "https://localhost:8080/",
     "height": 424
    },
    "id": "LE4GQTNkk962",
    "outputId": "98709636-75e3-461a-e062-6c4333a1a7ba"
   },
   "outputs": [
    {
     "data": {
      "text/html": [
       "<div>\n",
       "<style scoped>\n",
       "    .dataframe tbody tr th:only-of-type {\n",
       "        vertical-align: middle;\n",
       "    }\n",
       "\n",
       "    .dataframe tbody tr th {\n",
       "        vertical-align: top;\n",
       "    }\n",
       "\n",
       "    .dataframe thead th {\n",
       "        text-align: right;\n",
       "    }\n",
       "</style>\n",
       "<table border=\"1\" class=\"dataframe\">\n",
       "  <thead>\n",
       "    <tr style=\"text-align: right;\">\n",
       "      <th></th>\n",
       "      <th>text</th>\n",
       "      <th>label</th>\n",
       "    </tr>\n",
       "  </thead>\n",
       "  <tbody>\n",
       "    <tr>\n",
       "      <th>0</th>\n",
       "      <td>family mormon have never tried explain them th...</td>\n",
       "      <td>1</td>\n",
       "    </tr>\n",
       "    <tr>\n",
       "      <th>1</th>\n",
       "      <td>buddhism has very much lot compatible with chr...</td>\n",
       "      <td>1</td>\n",
       "    </tr>\n",
       "    <tr>\n",
       "      <th>2</th>\n",
       "      <td>seriously don say thing first all they won get...</td>\n",
       "      <td>0</td>\n",
       "    </tr>\n",
       "    <tr>\n",
       "      <th>3</th>\n",
       "      <td>for your own benefit you may want read living ...</td>\n",
       "      <td>1</td>\n",
       "    </tr>\n",
       "    <tr>\n",
       "      <th>4</th>\n",
       "      <td>you should all sit down together and watch the...</td>\n",
       "      <td>0</td>\n",
       "    </tr>\n",
       "    <tr>\n",
       "      <th>...</th>\n",
       "      <td>...</td>\n",
       "      <td>...</td>\n",
       "    </tr>\n",
       "    <tr>\n",
       "      <th>3285865</th>\n",
       "      <td>just realized that the windows partition of my...</td>\n",
       "      <td>1</td>\n",
       "    </tr>\n",
       "    <tr>\n",
       "      <th>3285866</th>\n",
       "      <td>just realized that my mac window partition is ...</td>\n",
       "      <td>1</td>\n",
       "    </tr>\n",
       "    <tr>\n",
       "      <th>3285867</th>\n",
       "      <td>just realized the windows partition of my mac ...</td>\n",
       "      <td>1</td>\n",
       "    </tr>\n",
       "    <tr>\n",
       "      <th>3285868</th>\n",
       "      <td>just realized between the windows partition of...</td>\n",
       "      <td>1</td>\n",
       "    </tr>\n",
       "    <tr>\n",
       "      <th>3285869</th>\n",
       "      <td>just like the windows partition of my mac is l...</td>\n",
       "      <td>1</td>\n",
       "    </tr>\n",
       "  </tbody>\n",
       "</table>\n",
       "<p>2246373 rows × 2 columns</p>\n",
       "</div>"
      ],
      "text/plain": [
       "                                                      text  label\n",
       "0        family mormon have never tried explain them th...      1\n",
       "1        buddhism has very much lot compatible with chr...      1\n",
       "2        seriously don say thing first all they won get...      0\n",
       "3        for your own benefit you may want read living ...      1\n",
       "4        you should all sit down together and watch the...      0\n",
       "...                                                    ...    ...\n",
       "3285865  just realized that the windows partition of my...      1\n",
       "3285866  just realized that my mac window partition is ...      1\n",
       "3285867  just realized the windows partition of my mac ...      1\n",
       "3285868  just realized between the windows partition of...      1\n",
       "3285869  just like the windows partition of my mac is l...      1\n",
       "\n",
       "[2246373 rows x 2 columns]"
      ]
     },
     "execution_count": 52,
     "metadata": {},
     "output_type": "execute_result"
    }
   ],
   "source": [
    "df"
   ]
  },
  {
   "cell_type": "code",
   "execution_count": 53,
   "metadata": {
    "colab": {
     "base_uri": "https://localhost:8080/"
    },
    "id": "RCQmXJRnlWsY",
    "outputId": "b07ffb87-d32a-43fd-d678-a931d4d7d425"
   },
   "outputs": [
    {
     "name": "stderr",
     "output_type": "stream",
     "text": [
      "C:\\Users\\merak\\AppData\\Local\\Temp\\ipykernel_18092\\3628638990.py:1: SettingWithCopyWarning: \n",
      "A value is trying to be set on a copy of a slice from a DataFrame.\n",
      "Try using .loc[row_indexer,col_indexer] = value instead\n",
      "\n",
      "See the caveats in the documentation: https://pandas.pydata.org/pandas-docs/stable/user_guide/indexing.html#returning-a-view-versus-a-copy\n",
      "  df['tokens'] = df['text'].apply(tokenize_and_remove_stopwords)\n"
     ]
    }
   ],
   "source": [
    "df['tokens'] = df['text'].apply(tokenize_and_remove_stopwords)"
   ]
  },
  {
   "cell_type": "code",
   "execution_count": 54,
   "metadata": {
    "colab": {
     "base_uri": "https://localhost:8080/"
    },
    "id": "dpOGwxKrn8cS",
    "outputId": "df016379-68d9-44fb-f811-4375032943ad"
   },
   "outputs": [
    {
     "name": "stderr",
     "output_type": "stream",
     "text": [
      "C:\\Users\\merak\\AppData\\Local\\Temp\\ipykernel_18092\\520197145.py:1: SettingWithCopyWarning: \n",
      "A value is trying to be set on a copy of a slice from a DataFrame.\n",
      "Try using .loc[row_indexer,col_indexer] = value instead\n",
      "\n",
      "See the caveats in the documentation: https://pandas.pydata.org/pandas-docs/stable/user_guide/indexing.html#returning-a-view-versus-a-copy\n",
      "  df['lemmatized'] = df['tokens'].apply(lemmatize_words)\n"
     ]
    }
   ],
   "source": [
    "df['lemmatized'] = df['tokens'].apply(lemmatize_words)"
   ]
  },
  {
   "cell_type": "code",
   "execution_count": 55,
   "metadata": {
    "colab": {
     "base_uri": "https://localhost:8080/"
    },
    "id": "LOEa_50wn81s",
    "outputId": "97b73db9-708b-4b8f-bcb4-547243f7f938"
   },
   "outputs": [
    {
     "name": "stderr",
     "output_type": "stream",
     "text": [
      "C:\\Users\\merak\\AppData\\Local\\Temp\\ipykernel_18092\\3349386058.py:1: SettingWithCopyWarning: \n",
      "A value is trying to be set on a copy of a slice from a DataFrame.\n",
      "Try using .loc[row_indexer,col_indexer] = value instead\n",
      "\n",
      "See the caveats in the documentation: https://pandas.pydata.org/pandas-docs/stable/user_guide/indexing.html#returning-a-view-versus-a-copy\n",
      "  df['text'] = df['lemmatized'].apply(lambda tokens: ' '.join(tokens))\n"
     ]
    }
   ],
   "source": [
    "df['text'] = df['lemmatized'].apply(lambda tokens: ' '.join(tokens))"
   ]
  },
  {
   "cell_type": "code",
   "execution_count": 56,
   "metadata": {
    "colab": {
     "base_uri": "https://localhost:8080/",
     "height": 0
    },
    "id": "LI3KcqvPpGkF",
    "outputId": "6eb4d76f-4e5d-4f57-a75e-99c9a79b8a4c"
   },
   "outputs": [
    {
     "data": {
      "text/html": [
       "<div>\n",
       "<style scoped>\n",
       "    .dataframe tbody tr th:only-of-type {\n",
       "        vertical-align: middle;\n",
       "    }\n",
       "\n",
       "    .dataframe tbody tr th {\n",
       "        vertical-align: top;\n",
       "    }\n",
       "\n",
       "    .dataframe thead th {\n",
       "        text-align: right;\n",
       "    }\n",
       "</style>\n",
       "<table border=\"1\" class=\"dataframe\">\n",
       "  <thead>\n",
       "    <tr style=\"text-align: right;\">\n",
       "      <th></th>\n",
       "      <th>text</th>\n",
       "      <th>label</th>\n",
       "      <th>tokens</th>\n",
       "      <th>lemmatized</th>\n",
       "    </tr>\n",
       "  </thead>\n",
       "  <tbody>\n",
       "    <tr>\n",
       "      <th>0</th>\n",
       "      <td>family mormon never tried explain still stare ...</td>\n",
       "      <td>1</td>\n",
       "      <td>[family, mormon, never, tried, explain, still,...</td>\n",
       "      <td>[family, mormon, never, tried, explain, still,...</td>\n",
       "    </tr>\n",
       "    <tr>\n",
       "      <th>1</th>\n",
       "      <td>buddhism much lot compatible christianity espe...</td>\n",
       "      <td>1</td>\n",
       "      <td>[buddhism, much, lot, compatible, christianity...</td>\n",
       "      <td>[buddhism, much, lot, compatible, christianity...</td>\n",
       "    </tr>\n",
       "    <tr>\n",
       "      <th>2</th>\n",
       "      <td>seriously say thing first get complex explain ...</td>\n",
       "      <td>0</td>\n",
       "      <td>[seriously, say, thing, first, get, complex, e...</td>\n",
       "      <td>[seriously, say, thing, first, get, complex, e...</td>\n",
       "    </tr>\n",
       "    <tr>\n",
       "      <th>3</th>\n",
       "      <td>benefit may want read living buddha living chr...</td>\n",
       "      <td>1</td>\n",
       "      <td>[benefit, may, want, read, living, buddha, liv...</td>\n",
       "      <td>[benefit, may, want, read, living, buddha, liv...</td>\n",
       "    </tr>\n",
       "    <tr>\n",
       "      <th>4</th>\n",
       "      <td>sit together watch simpson episode lisa become...</td>\n",
       "      <td>0</td>\n",
       "      <td>[sit, together, watch, simpsons, episode, lisa...</td>\n",
       "      <td>[sit, together, watch, simpson, episode, lisa,...</td>\n",
       "    </tr>\n",
       "    <tr>\n",
       "      <th>...</th>\n",
       "      <td>...</td>\n",
       "      <td>...</td>\n",
       "      <td>...</td>\n",
       "      <td>...</td>\n",
       "    </tr>\n",
       "    <tr>\n",
       "      <th>3285865</th>\n",
       "      <td>realized window partition mac like year behind...</td>\n",
       "      <td>1</td>\n",
       "      <td>[realized, windows, partition, mac, like, year...</td>\n",
       "      <td>[realized, window, partition, mac, like, year,...</td>\n",
       "    </tr>\n",
       "    <tr>\n",
       "      <th>3285866</th>\n",
       "      <td>realized mac window partition year behind nvid...</td>\n",
       "      <td>1</td>\n",
       "      <td>[realized, mac, window, partition, years, behi...</td>\n",
       "      <td>[realized, mac, window, partition, year, behin...</td>\n",
       "    </tr>\n",
       "    <tr>\n",
       "      <th>3285867</th>\n",
       "      <td>realized window partition mac year behind nvid...</td>\n",
       "      <td>1</td>\n",
       "      <td>[realized, windows, partition, mac, years, beh...</td>\n",
       "      <td>[realized, window, partition, mac, year, behin...</td>\n",
       "    </tr>\n",
       "    <tr>\n",
       "      <th>3285868</th>\n",
       "      <td>realized window partition mac like year behind...</td>\n",
       "      <td>1</td>\n",
       "      <td>[realized, windows, partition, mac, like, year...</td>\n",
       "      <td>[realized, window, partition, mac, like, year,...</td>\n",
       "    </tr>\n",
       "    <tr>\n",
       "      <th>3285869</th>\n",
       "      <td>like window partition mac like year behind dri...</td>\n",
       "      <td>1</td>\n",
       "      <td>[like, windows, partition, mac, like, years, b...</td>\n",
       "      <td>[like, window, partition, mac, like, year, beh...</td>\n",
       "    </tr>\n",
       "  </tbody>\n",
       "</table>\n",
       "<p>2246373 rows × 4 columns</p>\n",
       "</div>"
      ],
      "text/plain": [
       "                                                      text  label  \\\n",
       "0        family mormon never tried explain still stare ...      1   \n",
       "1        buddhism much lot compatible christianity espe...      1   \n",
       "2        seriously say thing first get complex explain ...      0   \n",
       "3        benefit may want read living buddha living chr...      1   \n",
       "4        sit together watch simpson episode lisa become...      0   \n",
       "...                                                    ...    ...   \n",
       "3285865  realized window partition mac like year behind...      1   \n",
       "3285866  realized mac window partition year behind nvid...      1   \n",
       "3285867  realized window partition mac year behind nvid...      1   \n",
       "3285868  realized window partition mac like year behind...      1   \n",
       "3285869  like window partition mac like year behind dri...      1   \n",
       "\n",
       "                                                    tokens  \\\n",
       "0        [family, mormon, never, tried, explain, still,...   \n",
       "1        [buddhism, much, lot, compatible, christianity...   \n",
       "2        [seriously, say, thing, first, get, complex, e...   \n",
       "3        [benefit, may, want, read, living, buddha, liv...   \n",
       "4        [sit, together, watch, simpsons, episode, lisa...   \n",
       "...                                                    ...   \n",
       "3285865  [realized, windows, partition, mac, like, year...   \n",
       "3285866  [realized, mac, window, partition, years, behi...   \n",
       "3285867  [realized, windows, partition, mac, years, beh...   \n",
       "3285868  [realized, windows, partition, mac, like, year...   \n",
       "3285869  [like, windows, partition, mac, like, years, b...   \n",
       "\n",
       "                                                lemmatized  \n",
       "0        [family, mormon, never, tried, explain, still,...  \n",
       "1        [buddhism, much, lot, compatible, christianity...  \n",
       "2        [seriously, say, thing, first, get, complex, e...  \n",
       "3        [benefit, may, want, read, living, buddha, liv...  \n",
       "4        [sit, together, watch, simpson, episode, lisa,...  \n",
       "...                                                    ...  \n",
       "3285865  [realized, window, partition, mac, like, year,...  \n",
       "3285866  [realized, mac, window, partition, year, behin...  \n",
       "3285867  [realized, window, partition, mac, year, behin...  \n",
       "3285868  [realized, window, partition, mac, like, year,...  \n",
       "3285869  [like, window, partition, mac, like, year, beh...  \n",
       "\n",
       "[2246373 rows x 4 columns]"
      ]
     },
     "execution_count": 56,
     "metadata": {},
     "output_type": "execute_result"
    }
   ],
   "source": [
    "df"
   ]
  },
  {
   "cell_type": "code",
   "execution_count": 57,
   "metadata": {
    "id": "W6Q2gTR64NkN"
   },
   "outputs": [],
   "source": [
    "df =  df[[\"text\",\"label\"]]"
   ]
  },
  {
   "cell_type": "code",
   "execution_count": 58,
   "metadata": {
    "colab": {
     "base_uri": "https://localhost:8080/",
     "height": 0
    },
    "id": "vJxunPti4YLL",
    "outputId": "bf116839-dc63-42c0-f4a8-abbba6f354a9"
   },
   "outputs": [
    {
     "data": {
      "text/html": [
       "<div>\n",
       "<style scoped>\n",
       "    .dataframe tbody tr th:only-of-type {\n",
       "        vertical-align: middle;\n",
       "    }\n",
       "\n",
       "    .dataframe tbody tr th {\n",
       "        vertical-align: top;\n",
       "    }\n",
       "\n",
       "    .dataframe thead th {\n",
       "        text-align: right;\n",
       "    }\n",
       "</style>\n",
       "<table border=\"1\" class=\"dataframe\">\n",
       "  <thead>\n",
       "    <tr style=\"text-align: right;\">\n",
       "      <th></th>\n",
       "      <th>text</th>\n",
       "      <th>label</th>\n",
       "    </tr>\n",
       "  </thead>\n",
       "  <tbody>\n",
       "    <tr>\n",
       "      <th>0</th>\n",
       "      <td>family mormon never tried explain still stare ...</td>\n",
       "      <td>1</td>\n",
       "    </tr>\n",
       "    <tr>\n",
       "      <th>1</th>\n",
       "      <td>buddhism much lot compatible christianity espe...</td>\n",
       "      <td>1</td>\n",
       "    </tr>\n",
       "    <tr>\n",
       "      <th>2</th>\n",
       "      <td>seriously say thing first get complex explain ...</td>\n",
       "      <td>0</td>\n",
       "    </tr>\n",
       "    <tr>\n",
       "      <th>3</th>\n",
       "      <td>benefit may want read living buddha living chr...</td>\n",
       "      <td>1</td>\n",
       "    </tr>\n",
       "    <tr>\n",
       "      <th>4</th>\n",
       "      <td>sit together watch simpson episode lisa become...</td>\n",
       "      <td>0</td>\n",
       "    </tr>\n",
       "    <tr>\n",
       "      <th>...</th>\n",
       "      <td>...</td>\n",
       "      <td>...</td>\n",
       "    </tr>\n",
       "    <tr>\n",
       "      <th>3285865</th>\n",
       "      <td>realized window partition mac like year behind...</td>\n",
       "      <td>1</td>\n",
       "    </tr>\n",
       "    <tr>\n",
       "      <th>3285866</th>\n",
       "      <td>realized mac window partition year behind nvid...</td>\n",
       "      <td>1</td>\n",
       "    </tr>\n",
       "    <tr>\n",
       "      <th>3285867</th>\n",
       "      <td>realized window partition mac year behind nvid...</td>\n",
       "      <td>1</td>\n",
       "    </tr>\n",
       "    <tr>\n",
       "      <th>3285868</th>\n",
       "      <td>realized window partition mac like year behind...</td>\n",
       "      <td>1</td>\n",
       "    </tr>\n",
       "    <tr>\n",
       "      <th>3285869</th>\n",
       "      <td>like window partition mac like year behind dri...</td>\n",
       "      <td>1</td>\n",
       "    </tr>\n",
       "  </tbody>\n",
       "</table>\n",
       "<p>2246373 rows × 2 columns</p>\n",
       "</div>"
      ],
      "text/plain": [
       "                                                      text  label\n",
       "0        family mormon never tried explain still stare ...      1\n",
       "1        buddhism much lot compatible christianity espe...      1\n",
       "2        seriously say thing first get complex explain ...      0\n",
       "3        benefit may want read living buddha living chr...      1\n",
       "4        sit together watch simpson episode lisa become...      0\n",
       "...                                                    ...    ...\n",
       "3285865  realized window partition mac like year behind...      1\n",
       "3285866  realized mac window partition year behind nvid...      1\n",
       "3285867  realized window partition mac year behind nvid...      1\n",
       "3285868  realized window partition mac like year behind...      1\n",
       "3285869  like window partition mac like year behind dri...      1\n",
       "\n",
       "[2246373 rows x 2 columns]"
      ]
     },
     "execution_count": 58,
     "metadata": {},
     "output_type": "execute_result"
    }
   ],
   "source": [
    "df"
   ]
  },
  {
   "cell_type": "code",
   "execution_count": 59,
   "metadata": {
    "id": "FuWSbwXv4irS"
   },
   "outputs": [],
   "source": [
    "# label_encoder = LabelEncoder()\n",
    "# df['label'] = label_encoder.fit_transform(df['label'])"
   ]
  },
  {
   "cell_type": "code",
   "execution_count": 60,
   "metadata": {
    "id": "9DhokoE94tAY"
   },
   "outputs": [],
   "source": [
    "# saving preprocessed and lemmatized data into csv\n",
    "df.to_csv(\"preprocessed_lemmatized_data.csv\", index=False)"
   ]
  },
  {
   "cell_type": "markdown",
   "metadata": {
    "id": "TmeXveVU7XHn"
   },
   "source": [
    "# **Fit and Train Machine Learning Model**"
   ]
  },
  {
   "cell_type": "code",
   "execution_count": 61,
   "metadata": {
    "id": "DYNzF4oG48K6"
   },
   "outputs": [],
   "source": [
    "# import required library\n",
    "from sklearn.feature_extraction.text import TfidfVectorizer\n",
    "from sklearn.model_selection import train_test_split\n",
    "from sklearn.metrics import classification_report, accuracy_score, confusion_matrix\n",
    "\n",
    "from sklearn.linear_model import LogisticRegression\n",
    "from sklearn.svm import LinearSVC\n",
    "from sklearn.ensemble import RandomForestClassifier\n",
    "from sklearn.naive_bayes import MultinomialNB"
   ]
  },
  {
   "cell_type": "code",
   "execution_count": 62,
   "metadata": {
    "id": "X6InTugR5rhE"
   },
   "outputs": [],
   "source": [
    "# Convert text to numerical features\n",
    "vectorizer = TfidfVectorizer(max_features=30000, min_df=5, max_df=0.8)"
   ]
  },
  {
   "cell_type": "code",
   "execution_count": 63,
   "metadata": {
    "id": "3PirbKaj5yv5"
   },
   "outputs": [],
   "source": [
    "X = df['text']\n",
    "y = df['label']"
   ]
  },
  {
   "cell_type": "code",
   "execution_count": 64,
   "metadata": {
    "id": "QZFWWBgU56Ju"
   },
   "outputs": [],
   "source": [
    "X_train, X_test, y_train, y_test = train_test_split(X, y, test_size=0.2, random_state=42)"
   ]
  },
  {
   "cell_type": "code",
   "execution_count": 65,
   "metadata": {},
   "outputs": [],
   "source": [
    "X_train = vectorizer.fit_transform(X_train)\n",
    "X_test =  vectorizer.transform(X_test)"
   ]
  },
  {
   "cell_type": "code",
   "execution_count": 66,
   "metadata": {
    "colab": {
     "base_uri": "https://localhost:8080/",
     "height": 80
    },
    "id": "BC9mqb9V6F7q",
    "outputId": "a2875560-6910-48a2-f2ac-8f3e9de6f983"
   },
   "outputs": [
    {
     "data": {
      "text/html": [
       "<style>#sk-container-id-1 {\n",
       "  /* Definition of color scheme common for light and dark mode */\n",
       "  --sklearn-color-text: #000;\n",
       "  --sklearn-color-text-muted: #666;\n",
       "  --sklearn-color-line: gray;\n",
       "  /* Definition of color scheme for unfitted estimators */\n",
       "  --sklearn-color-unfitted-level-0: #fff5e6;\n",
       "  --sklearn-color-unfitted-level-1: #f6e4d2;\n",
       "  --sklearn-color-unfitted-level-2: #ffe0b3;\n",
       "  --sklearn-color-unfitted-level-3: chocolate;\n",
       "  /* Definition of color scheme for fitted estimators */\n",
       "  --sklearn-color-fitted-level-0: #f0f8ff;\n",
       "  --sklearn-color-fitted-level-1: #d4ebff;\n",
       "  --sklearn-color-fitted-level-2: #b3dbfd;\n",
       "  --sklearn-color-fitted-level-3: cornflowerblue;\n",
       "\n",
       "  /* Specific color for light theme */\n",
       "  --sklearn-color-text-on-default-background: var(--sg-text-color, var(--theme-code-foreground, var(--jp-content-font-color1, black)));\n",
       "  --sklearn-color-background: var(--sg-background-color, var(--theme-background, var(--jp-layout-color0, white)));\n",
       "  --sklearn-color-border-box: var(--sg-text-color, var(--theme-code-foreground, var(--jp-content-font-color1, black)));\n",
       "  --sklearn-color-icon: #696969;\n",
       "\n",
       "  @media (prefers-color-scheme: dark) {\n",
       "    /* Redefinition of color scheme for dark theme */\n",
       "    --sklearn-color-text-on-default-background: var(--sg-text-color, var(--theme-code-foreground, var(--jp-content-font-color1, white)));\n",
       "    --sklearn-color-background: var(--sg-background-color, var(--theme-background, var(--jp-layout-color0, #111)));\n",
       "    --sklearn-color-border-box: var(--sg-text-color, var(--theme-code-foreground, var(--jp-content-font-color1, white)));\n",
       "    --sklearn-color-icon: #878787;\n",
       "  }\n",
       "}\n",
       "\n",
       "#sk-container-id-1 {\n",
       "  color: var(--sklearn-color-text);\n",
       "}\n",
       "\n",
       "#sk-container-id-1 pre {\n",
       "  padding: 0;\n",
       "}\n",
       "\n",
       "#sk-container-id-1 input.sk-hidden--visually {\n",
       "  border: 0;\n",
       "  clip: rect(1px 1px 1px 1px);\n",
       "  clip: rect(1px, 1px, 1px, 1px);\n",
       "  height: 1px;\n",
       "  margin: -1px;\n",
       "  overflow: hidden;\n",
       "  padding: 0;\n",
       "  position: absolute;\n",
       "  width: 1px;\n",
       "}\n",
       "\n",
       "#sk-container-id-1 div.sk-dashed-wrapped {\n",
       "  border: 1px dashed var(--sklearn-color-line);\n",
       "  margin: 0 0.4em 0.5em 0.4em;\n",
       "  box-sizing: border-box;\n",
       "  padding-bottom: 0.4em;\n",
       "  background-color: var(--sklearn-color-background);\n",
       "}\n",
       "\n",
       "#sk-container-id-1 div.sk-container {\n",
       "  /* jupyter's `normalize.less` sets `[hidden] { display: none; }`\n",
       "     but bootstrap.min.css set `[hidden] { display: none !important; }`\n",
       "     so we also need the `!important` here to be able to override the\n",
       "     default hidden behavior on the sphinx rendered scikit-learn.org.\n",
       "     See: https://github.com/scikit-learn/scikit-learn/issues/21755 */\n",
       "  display: inline-block !important;\n",
       "  position: relative;\n",
       "}\n",
       "\n",
       "#sk-container-id-1 div.sk-text-repr-fallback {\n",
       "  display: none;\n",
       "}\n",
       "\n",
       "div.sk-parallel-item,\n",
       "div.sk-serial,\n",
       "div.sk-item {\n",
       "  /* draw centered vertical line to link estimators */\n",
       "  background-image: linear-gradient(var(--sklearn-color-text-on-default-background), var(--sklearn-color-text-on-default-background));\n",
       "  background-size: 2px 100%;\n",
       "  background-repeat: no-repeat;\n",
       "  background-position: center center;\n",
       "}\n",
       "\n",
       "/* Parallel-specific style estimator block */\n",
       "\n",
       "#sk-container-id-1 div.sk-parallel-item::after {\n",
       "  content: \"\";\n",
       "  width: 100%;\n",
       "  border-bottom: 2px solid var(--sklearn-color-text-on-default-background);\n",
       "  flex-grow: 1;\n",
       "}\n",
       "\n",
       "#sk-container-id-1 div.sk-parallel {\n",
       "  display: flex;\n",
       "  align-items: stretch;\n",
       "  justify-content: center;\n",
       "  background-color: var(--sklearn-color-background);\n",
       "  position: relative;\n",
       "}\n",
       "\n",
       "#sk-container-id-1 div.sk-parallel-item {\n",
       "  display: flex;\n",
       "  flex-direction: column;\n",
       "}\n",
       "\n",
       "#sk-container-id-1 div.sk-parallel-item:first-child::after {\n",
       "  align-self: flex-end;\n",
       "  width: 50%;\n",
       "}\n",
       "\n",
       "#sk-container-id-1 div.sk-parallel-item:last-child::after {\n",
       "  align-self: flex-start;\n",
       "  width: 50%;\n",
       "}\n",
       "\n",
       "#sk-container-id-1 div.sk-parallel-item:only-child::after {\n",
       "  width: 0;\n",
       "}\n",
       "\n",
       "/* Serial-specific style estimator block */\n",
       "\n",
       "#sk-container-id-1 div.sk-serial {\n",
       "  display: flex;\n",
       "  flex-direction: column;\n",
       "  align-items: center;\n",
       "  background-color: var(--sklearn-color-background);\n",
       "  padding-right: 1em;\n",
       "  padding-left: 1em;\n",
       "}\n",
       "\n",
       "\n",
       "/* Toggleable style: style used for estimator/Pipeline/ColumnTransformer box that is\n",
       "clickable and can be expanded/collapsed.\n",
       "- Pipeline and ColumnTransformer use this feature and define the default style\n",
       "- Estimators will overwrite some part of the style using the `sk-estimator` class\n",
       "*/\n",
       "\n",
       "/* Pipeline and ColumnTransformer style (default) */\n",
       "\n",
       "#sk-container-id-1 div.sk-toggleable {\n",
       "  /* Default theme specific background. It is overwritten whether we have a\n",
       "  specific estimator or a Pipeline/ColumnTransformer */\n",
       "  background-color: var(--sklearn-color-background);\n",
       "}\n",
       "\n",
       "/* Toggleable label */\n",
       "#sk-container-id-1 label.sk-toggleable__label {\n",
       "  cursor: pointer;\n",
       "  display: flex;\n",
       "  width: 100%;\n",
       "  margin-bottom: 0;\n",
       "  padding: 0.5em;\n",
       "  box-sizing: border-box;\n",
       "  text-align: center;\n",
       "  align-items: start;\n",
       "  justify-content: space-between;\n",
       "  gap: 0.5em;\n",
       "}\n",
       "\n",
       "#sk-container-id-1 label.sk-toggleable__label .caption {\n",
       "  font-size: 0.6rem;\n",
       "  font-weight: lighter;\n",
       "  color: var(--sklearn-color-text-muted);\n",
       "}\n",
       "\n",
       "#sk-container-id-1 label.sk-toggleable__label-arrow:before {\n",
       "  /* Arrow on the left of the label */\n",
       "  content: \"▸\";\n",
       "  float: left;\n",
       "  margin-right: 0.25em;\n",
       "  color: var(--sklearn-color-icon);\n",
       "}\n",
       "\n",
       "#sk-container-id-1 label.sk-toggleable__label-arrow:hover:before {\n",
       "  color: var(--sklearn-color-text);\n",
       "}\n",
       "\n",
       "/* Toggleable content - dropdown */\n",
       "\n",
       "#sk-container-id-1 div.sk-toggleable__content {\n",
       "  max-height: 0;\n",
       "  max-width: 0;\n",
       "  overflow: hidden;\n",
       "  text-align: left;\n",
       "  /* unfitted */\n",
       "  background-color: var(--sklearn-color-unfitted-level-0);\n",
       "}\n",
       "\n",
       "#sk-container-id-1 div.sk-toggleable__content.fitted {\n",
       "  /* fitted */\n",
       "  background-color: var(--sklearn-color-fitted-level-0);\n",
       "}\n",
       "\n",
       "#sk-container-id-1 div.sk-toggleable__content pre {\n",
       "  margin: 0.2em;\n",
       "  border-radius: 0.25em;\n",
       "  color: var(--sklearn-color-text);\n",
       "  /* unfitted */\n",
       "  background-color: var(--sklearn-color-unfitted-level-0);\n",
       "}\n",
       "\n",
       "#sk-container-id-1 div.sk-toggleable__content.fitted pre {\n",
       "  /* unfitted */\n",
       "  background-color: var(--sklearn-color-fitted-level-0);\n",
       "}\n",
       "\n",
       "#sk-container-id-1 input.sk-toggleable__control:checked~div.sk-toggleable__content {\n",
       "  /* Expand drop-down */\n",
       "  max-height: 200px;\n",
       "  max-width: 100%;\n",
       "  overflow: auto;\n",
       "}\n",
       "\n",
       "#sk-container-id-1 input.sk-toggleable__control:checked~label.sk-toggleable__label-arrow:before {\n",
       "  content: \"▾\";\n",
       "}\n",
       "\n",
       "/* Pipeline/ColumnTransformer-specific style */\n",
       "\n",
       "#sk-container-id-1 div.sk-label input.sk-toggleable__control:checked~label.sk-toggleable__label {\n",
       "  color: var(--sklearn-color-text);\n",
       "  background-color: var(--sklearn-color-unfitted-level-2);\n",
       "}\n",
       "\n",
       "#sk-container-id-1 div.sk-label.fitted input.sk-toggleable__control:checked~label.sk-toggleable__label {\n",
       "  background-color: var(--sklearn-color-fitted-level-2);\n",
       "}\n",
       "\n",
       "/* Estimator-specific style */\n",
       "\n",
       "/* Colorize estimator box */\n",
       "#sk-container-id-1 div.sk-estimator input.sk-toggleable__control:checked~label.sk-toggleable__label {\n",
       "  /* unfitted */\n",
       "  background-color: var(--sklearn-color-unfitted-level-2);\n",
       "}\n",
       "\n",
       "#sk-container-id-1 div.sk-estimator.fitted input.sk-toggleable__control:checked~label.sk-toggleable__label {\n",
       "  /* fitted */\n",
       "  background-color: var(--sklearn-color-fitted-level-2);\n",
       "}\n",
       "\n",
       "#sk-container-id-1 div.sk-label label.sk-toggleable__label,\n",
       "#sk-container-id-1 div.sk-label label {\n",
       "  /* The background is the default theme color */\n",
       "  color: var(--sklearn-color-text-on-default-background);\n",
       "}\n",
       "\n",
       "/* On hover, darken the color of the background */\n",
       "#sk-container-id-1 div.sk-label:hover label.sk-toggleable__label {\n",
       "  color: var(--sklearn-color-text);\n",
       "  background-color: var(--sklearn-color-unfitted-level-2);\n",
       "}\n",
       "\n",
       "/* Label box, darken color on hover, fitted */\n",
       "#sk-container-id-1 div.sk-label.fitted:hover label.sk-toggleable__label.fitted {\n",
       "  color: var(--sklearn-color-text);\n",
       "  background-color: var(--sklearn-color-fitted-level-2);\n",
       "}\n",
       "\n",
       "/* Estimator label */\n",
       "\n",
       "#sk-container-id-1 div.sk-label label {\n",
       "  font-family: monospace;\n",
       "  font-weight: bold;\n",
       "  display: inline-block;\n",
       "  line-height: 1.2em;\n",
       "}\n",
       "\n",
       "#sk-container-id-1 div.sk-label-container {\n",
       "  text-align: center;\n",
       "}\n",
       "\n",
       "/* Estimator-specific */\n",
       "#sk-container-id-1 div.sk-estimator {\n",
       "  font-family: monospace;\n",
       "  border: 1px dotted var(--sklearn-color-border-box);\n",
       "  border-radius: 0.25em;\n",
       "  box-sizing: border-box;\n",
       "  margin-bottom: 0.5em;\n",
       "  /* unfitted */\n",
       "  background-color: var(--sklearn-color-unfitted-level-0);\n",
       "}\n",
       "\n",
       "#sk-container-id-1 div.sk-estimator.fitted {\n",
       "  /* fitted */\n",
       "  background-color: var(--sklearn-color-fitted-level-0);\n",
       "}\n",
       "\n",
       "/* on hover */\n",
       "#sk-container-id-1 div.sk-estimator:hover {\n",
       "  /* unfitted */\n",
       "  background-color: var(--sklearn-color-unfitted-level-2);\n",
       "}\n",
       "\n",
       "#sk-container-id-1 div.sk-estimator.fitted:hover {\n",
       "  /* fitted */\n",
       "  background-color: var(--sklearn-color-fitted-level-2);\n",
       "}\n",
       "\n",
       "/* Specification for estimator info (e.g. \"i\" and \"?\") */\n",
       "\n",
       "/* Common style for \"i\" and \"?\" */\n",
       "\n",
       ".sk-estimator-doc-link,\n",
       "a:link.sk-estimator-doc-link,\n",
       "a:visited.sk-estimator-doc-link {\n",
       "  float: right;\n",
       "  font-size: smaller;\n",
       "  line-height: 1em;\n",
       "  font-family: monospace;\n",
       "  background-color: var(--sklearn-color-background);\n",
       "  border-radius: 1em;\n",
       "  height: 1em;\n",
       "  width: 1em;\n",
       "  text-decoration: none !important;\n",
       "  margin-left: 0.5em;\n",
       "  text-align: center;\n",
       "  /* unfitted */\n",
       "  border: var(--sklearn-color-unfitted-level-1) 1pt solid;\n",
       "  color: var(--sklearn-color-unfitted-level-1);\n",
       "}\n",
       "\n",
       ".sk-estimator-doc-link.fitted,\n",
       "a:link.sk-estimator-doc-link.fitted,\n",
       "a:visited.sk-estimator-doc-link.fitted {\n",
       "  /* fitted */\n",
       "  border: var(--sklearn-color-fitted-level-1) 1pt solid;\n",
       "  color: var(--sklearn-color-fitted-level-1);\n",
       "}\n",
       "\n",
       "/* On hover */\n",
       "div.sk-estimator:hover .sk-estimator-doc-link:hover,\n",
       ".sk-estimator-doc-link:hover,\n",
       "div.sk-label-container:hover .sk-estimator-doc-link:hover,\n",
       ".sk-estimator-doc-link:hover {\n",
       "  /* unfitted */\n",
       "  background-color: var(--sklearn-color-unfitted-level-3);\n",
       "  color: var(--sklearn-color-background);\n",
       "  text-decoration: none;\n",
       "}\n",
       "\n",
       "div.sk-estimator.fitted:hover .sk-estimator-doc-link.fitted:hover,\n",
       ".sk-estimator-doc-link.fitted:hover,\n",
       "div.sk-label-container:hover .sk-estimator-doc-link.fitted:hover,\n",
       ".sk-estimator-doc-link.fitted:hover {\n",
       "  /* fitted */\n",
       "  background-color: var(--sklearn-color-fitted-level-3);\n",
       "  color: var(--sklearn-color-background);\n",
       "  text-decoration: none;\n",
       "}\n",
       "\n",
       "/* Span, style for the box shown on hovering the info icon */\n",
       ".sk-estimator-doc-link span {\n",
       "  display: none;\n",
       "  z-index: 9999;\n",
       "  position: relative;\n",
       "  font-weight: normal;\n",
       "  right: .2ex;\n",
       "  padding: .5ex;\n",
       "  margin: .5ex;\n",
       "  width: min-content;\n",
       "  min-width: 20ex;\n",
       "  max-width: 50ex;\n",
       "  color: var(--sklearn-color-text);\n",
       "  box-shadow: 2pt 2pt 4pt #999;\n",
       "  /* unfitted */\n",
       "  background: var(--sklearn-color-unfitted-level-0);\n",
       "  border: .5pt solid var(--sklearn-color-unfitted-level-3);\n",
       "}\n",
       "\n",
       ".sk-estimator-doc-link.fitted span {\n",
       "  /* fitted */\n",
       "  background: var(--sklearn-color-fitted-level-0);\n",
       "  border: var(--sklearn-color-fitted-level-3);\n",
       "}\n",
       "\n",
       ".sk-estimator-doc-link:hover span {\n",
       "  display: block;\n",
       "}\n",
       "\n",
       "/* \"?\"-specific style due to the `<a>` HTML tag */\n",
       "\n",
       "#sk-container-id-1 a.estimator_doc_link {\n",
       "  float: right;\n",
       "  font-size: 1rem;\n",
       "  line-height: 1em;\n",
       "  font-family: monospace;\n",
       "  background-color: var(--sklearn-color-background);\n",
       "  border-radius: 1rem;\n",
       "  height: 1rem;\n",
       "  width: 1rem;\n",
       "  text-decoration: none;\n",
       "  /* unfitted */\n",
       "  color: var(--sklearn-color-unfitted-level-1);\n",
       "  border: var(--sklearn-color-unfitted-level-1) 1pt solid;\n",
       "}\n",
       "\n",
       "#sk-container-id-1 a.estimator_doc_link.fitted {\n",
       "  /* fitted */\n",
       "  border: var(--sklearn-color-fitted-level-1) 1pt solid;\n",
       "  color: var(--sklearn-color-fitted-level-1);\n",
       "}\n",
       "\n",
       "/* On hover */\n",
       "#sk-container-id-1 a.estimator_doc_link:hover {\n",
       "  /* unfitted */\n",
       "  background-color: var(--sklearn-color-unfitted-level-3);\n",
       "  color: var(--sklearn-color-background);\n",
       "  text-decoration: none;\n",
       "}\n",
       "\n",
       "#sk-container-id-1 a.estimator_doc_link.fitted:hover {\n",
       "  /* fitted */\n",
       "  background-color: var(--sklearn-color-fitted-level-3);\n",
       "}\n",
       "</style><div id=\"sk-container-id-1\" class=\"sk-top-container\"><div class=\"sk-text-repr-fallback\"><pre>LogisticRegression(max_iter=1000)</pre><b>In a Jupyter environment, please rerun this cell to show the HTML representation or trust the notebook. <br />On GitHub, the HTML representation is unable to render, please try loading this page with nbviewer.org.</b></div><div class=\"sk-container\" hidden><div class=\"sk-item\"><div class=\"sk-estimator fitted sk-toggleable\"><input class=\"sk-toggleable__control sk-hidden--visually\" id=\"sk-estimator-id-1\" type=\"checkbox\" checked><label for=\"sk-estimator-id-1\" class=\"sk-toggleable__label fitted sk-toggleable__label-arrow\"><div><div>LogisticRegression</div></div><div><a class=\"sk-estimator-doc-link fitted\" rel=\"noreferrer\" target=\"_blank\" href=\"https://scikit-learn.org/1.6/modules/generated/sklearn.linear_model.LogisticRegression.html\">?<span>Documentation for LogisticRegression</span></a><span class=\"sk-estimator-doc-link fitted\">i<span>Fitted</span></span></div></label><div class=\"sk-toggleable__content fitted\"><pre>LogisticRegression(max_iter=1000)</pre></div> </div></div></div></div>"
      ],
      "text/plain": [
       "LogisticRegression(max_iter=1000)"
      ]
     },
     "execution_count": 66,
     "metadata": {},
     "output_type": "execute_result"
    }
   ],
   "source": [
    "# Training LogisticRegression model\n",
    "lg_model = LogisticRegression(max_iter=1000)\n",
    "lg_model.fit(X_train, y_train)"
   ]
  },
  {
   "cell_type": "code",
   "execution_count": 67,
   "metadata": {
    "colab": {
     "base_uri": "https://localhost:8080/"
    },
    "id": "ya40LVF36JoM",
    "outputId": "bfa8ee0f-3f40-4878-f1ea-a8055df71134"
   },
   "outputs": [
    {
     "name": "stdout",
     "output_type": "stream",
     "text": [
      "Accuracy: 0.8158010127427522\n",
      "\n",
      "Confusion Matrix:\n",
      " [[174090  45732]\n",
      " [ 37024 192429]]\n",
      "\n",
      "Classification Report:\n",
      "               precision    recall  f1-score   support\n",
      "\n",
      "           0       0.82      0.79      0.81    219822\n",
      "           1       0.81      0.84      0.82    229453\n",
      "\n",
      "    accuracy                           0.82    449275\n",
      "   macro avg       0.82      0.82      0.82    449275\n",
      "weighted avg       0.82      0.82      0.82    449275\n",
      "\n"
     ]
    }
   ],
   "source": [
    "y_pred = lg_model.predict(X_test)\n",
    "\n",
    "print(\"Accuracy:\", accuracy_score(y_test, y_pred))\n",
    "print(\"\\nConfusion Matrix:\\n\", confusion_matrix(y_test, y_pred))\n",
    "print(\"\\nClassification Report:\\n\", classification_report(y_test, y_pred))"
   ]
  },
  {
   "cell_type": "code",
   "execution_count": 68,
   "metadata": {
    "colab": {
     "base_uri": "https://localhost:8080/"
    },
    "id": "MC_-tE0R7lUh",
    "outputId": "4ef4e9ed-2292-4b65-b003-ac9b5c83e144"
   },
   "outputs": [
    {
     "name": "stdout",
     "output_type": "stream",
     "text": [
      "SVM Accuracy: 0.8144076567803684\n",
      "\n",
      "Classification Report for SVM:\n",
      "               precision    recall  f1-score   support\n",
      "\n",
      "           0       0.82      0.79      0.81    219822\n",
      "           1       0.81      0.84      0.82    229453\n",
      "\n",
      "    accuracy                           0.81    449275\n",
      "   macro avg       0.81      0.81      0.81    449275\n",
      "weighted avg       0.81      0.81      0.81    449275\n",
      "\n",
      "\n",
      "Confusion Matrix for SVM:\n",
      " [[173750  46072]\n",
      " [ 37310 192143]]\n"
     ]
    }
   ],
   "source": [
    "# Training Support Vector Machine\n",
    "\n",
    "svm_model = LinearSVC(max_iter=1000)\n",
    "svm_model.fit(X_train, y_train)\n",
    "\n",
    "y_pred_svm = svm_model.predict(X_test)\n",
    "\n",
    "print(\"SVM Accuracy:\", accuracy_score(y_test, y_pred_svm))\n",
    "print(\"\\nClassification Report for SVM:\\n\", classification_report(y_test, y_pred_svm))\n",
    "print(\"\\nConfusion Matrix for SVM:\\n\", confusion_matrix(y_test, y_pred_svm))"
   ]
  },
  {
   "cell_type": "code",
   "execution_count": 69,
   "metadata": {
    "colab": {
     "base_uri": "https://localhost:8080/"
    },
    "id": "2-zPYe607qXC",
    "outputId": "a1d470f9-4fc4-4bbd-ad5d-eb41f1b05705"
   },
   "outputs": [
    {
     "name": "stdout",
     "output_type": "stream",
     "text": [
      "Random Forest Accuracy: 0.7518424127761394\n",
      "\n",
      "Classification Report for RF:\n",
      "               precision    recall  f1-score   support\n",
      "\n",
      "           0       0.85      0.60      0.70    219822\n",
      "           1       0.70      0.90      0.79    229453\n",
      "\n",
      "    accuracy                           0.75    449275\n",
      "   macro avg       0.78      0.75      0.74    449275\n",
      "weighted avg       0.77      0.75      0.75    449275\n",
      "\n",
      "\n",
      "Confusion Matrix for RF:\n",
      " [[131161  88661]\n",
      " [ 22830 206623]]\n"
     ]
    }
   ],
   "source": [
    "# Training Random Forest\n",
    "\n",
    "rf_model = RandomForestClassifier(n_estimators=50, random_state=42, n_jobs=-1, max_depth=20)\n",
    "rf_model.fit(X_train, y_train)\n",
    "\n",
    "y_pred_rf = rf_model.predict(X_test)\n",
    "\n",
    "print(\"Random Forest Accuracy:\", accuracy_score(y_test, y_pred_rf))\n",
    "print(\"\\nClassification Report for RF:\\n\", classification_report(y_test, y_pred_rf))\n",
    "print(\"\\nConfusion Matrix for RF:\\n\", confusion_matrix(y_test, y_pred_rf))"
   ]
  },
  {
   "cell_type": "code",
   "execution_count": 70,
   "metadata": {
    "colab": {
     "base_uri": "https://localhost:8080/"
    },
    "id": "qjTfCIAS73MH",
    "outputId": "3966c715-ccda-46b0-da54-71ccb5d86a3c"
   },
   "outputs": [
    {
     "name": "stdout",
     "output_type": "stream",
     "text": [
      "Naive Bayes Accuracy: 0.7854944076567804\n",
      "\n",
      "Classification Report for NB:\n",
      "               precision    recall  f1-score   support\n",
      "\n",
      "           0       0.79      0.77      0.78    219822\n",
      "           1       0.79      0.80      0.79    229453\n",
      "\n",
      "    accuracy                           0.79    449275\n",
      "   macro avg       0.79      0.79      0.79    449275\n",
      "weighted avg       0.79      0.79      0.79    449275\n",
      "\n",
      "\n",
      "Confusion Matrix for NB:\n",
      " [[169679  50143]\n",
      " [ 46229 183224]]\n"
     ]
    }
   ],
   "source": [
    "# Training Naive Bayes Classifier\n",
    "\n",
    "nb_model = MultinomialNB()\n",
    "nb_model.fit(X_train, y_train)\n",
    "\n",
    "y_pred_nb = nb_model.predict(X_test)\n",
    "\n",
    "print(\"Naive Bayes Accuracy:\", accuracy_score(y_test, y_pred_nb))\n",
    "print(\"\\nClassification Report for NB:\\n\", classification_report(y_test, y_pred_nb))\n",
    "print(\"\\nConfusion Matrix for NB:\\n\", confusion_matrix(y_test, y_pred_nb))"
   ]
  },
  {
   "cell_type": "code",
   "execution_count": 71,
   "metadata": {
    "id": "1N3EPqi68S7c"
   },
   "outputs": [],
   "source": [
    "# saving all the models\n",
    "\n",
    "import os\n",
    "import pickle\n",
    "\n",
    "folder = 'models'\n",
    "os.makedirs(folder, exist_ok=True)\n",
    "\n",
    "# Save TF-IDF vectorizer\n",
    "with open(os.path.join(folder, 'tfidf_vectorizer.pkl'), 'wb') as f:\n",
    "    pickle.dump(vectorizer, f)\n",
    "\n",
    "# Save Logistic Regression model\n",
    "with open(os.path.join(folder, 'logistic_regression_model.pkl'), 'wb') as f:\n",
    "    pickle.dump(lg_model, f)\n",
    "\n",
    "# Save SVM model\n",
    "with open(os.path.join(folder, 'svm_model.pkl'), 'wb') as f:\n",
    "    pickle.dump(svm_model, f)\n",
    "\n",
    "# Save Random Forest model\n",
    "with open(os.path.join(folder, 'random_forest_model.pkl'), 'wb') as f:\n",
    "    pickle.dump(rf_model, f)\n",
    "\n",
    "# Save Naive Bayes model\n",
    "with open(os.path.join(folder, 'naive_bayes_model.pkl'), 'wb') as f:\n",
    "    pickle.dump(nb_model, f)"
   ]
  },
  {
   "cell_type": "code",
   "execution_count": 72,
   "metadata": {
    "id": "jqj8p8_S8vZ4"
   },
   "outputs": [],
   "source": [
    "# load model for prediction\n",
    "\n",
    "import pickle\n",
    "import os\n",
    "\n",
    "folder = 'models'\n",
    "\n",
    "with open(os.path.join(folder, 'tfidf_vectorizer.pkl'), 'rb') as f:\n",
    "    vectorizer = pickle.load(f)\n",
    "\n",
    "with open(os.path.join(folder, 'logistic_regression_model.pkl'), 'rb') as f:\n",
    "    lg_model = pickle.load(f)\n",
    "\n",
    "with open(os.path.join(folder, 'svm_model.pkl'), 'rb') as f:\n",
    "    svm_model = pickle.load(f)\n",
    "\n",
    "with open(os.path.join(folder, 'random_forest_model.pkl'), 'rb') as f:\n",
    "    rf_model = pickle.load(f)\n",
    "\n",
    "with open(os.path.join(folder, 'naive_bayes_model.pkl'), 'rb') as f:\n",
    "    nb_model = pickle.load(f)"
   ]
  },
  {
   "cell_type": "markdown",
   "metadata": {
    "id": "pQE9zSmOaVHE"
   },
   "source": [
    "# **Data Filtering / Data Pruning:**"
   ]
  },
  {
   "cell_type": "markdown",
   "metadata": {
    "id": "_aApcIsuafe7"
   },
   "source": [
    "To improve model accuracy perform data pruning with prebuild models"
   ]
  },
  {
   "cell_type": "code",
   "execution_count": 73,
   "metadata": {
    "id": "crpFon-zaWS7"
   },
   "outputs": [
    {
     "name": "stdout",
     "output_type": "stream",
     "text": [
      "Requirement already satisfied: transformers in c:\\users\\merak\\appdata\\local\\programs\\python\\python310\\lib\\site-packages (4.52.3)\n",
      "Requirement already satisfied: filelock in c:\\users\\merak\\appdata\\local\\programs\\python\\python310\\lib\\site-packages (from transformers) (3.18.0)\n",
      "Requirement already satisfied: huggingface-hub<1.0,>=0.30.0 in c:\\users\\merak\\appdata\\local\\programs\\python\\python310\\lib\\site-packages (from transformers) (0.32.2)\n",
      "Requirement already satisfied: numpy>=1.17 in c:\\users\\merak\\appdata\\local\\programs\\python\\python310\\lib\\site-packages (from transformers) (2.1.3)\n",
      "Requirement already satisfied: packaging>=20.0 in c:\\users\\merak\\appdata\\local\\programs\\python\\python310\\lib\\site-packages (from transformers) (25.0)\n",
      "Requirement already satisfied: pyyaml>=5.1 in c:\\users\\merak\\appdata\\local\\programs\\python\\python310\\lib\\site-packages (from transformers) (6.0.2)\n",
      "Requirement already satisfied: regex!=2019.12.17 in c:\\users\\merak\\appdata\\local\\programs\\python\\python310\\lib\\site-packages (from transformers) (2024.11.6)\n",
      "Requirement already satisfied: requests in c:\\users\\merak\\appdata\\local\\programs\\python\\python310\\lib\\site-packages (from transformers) (2.32.3)\n",
      "Requirement already satisfied: tokenizers<0.22,>=0.21 in c:\\users\\merak\\appdata\\local\\programs\\python\\python310\\lib\\site-packages (from transformers) (0.21.1)\n",
      "Requirement already satisfied: safetensors>=0.4.3 in c:\\users\\merak\\appdata\\local\\programs\\python\\python310\\lib\\site-packages (from transformers) (0.5.3)\n",
      "Requirement already satisfied: tqdm>=4.27 in c:\\users\\merak\\appdata\\local\\programs\\python\\python310\\lib\\site-packages (from transformers) (4.67.1)\n",
      "Requirement already satisfied: fsspec>=2023.5.0 in c:\\users\\merak\\appdata\\local\\programs\\python\\python310\\lib\\site-packages (from huggingface-hub<1.0,>=0.30.0->transformers) (2025.3.0)\n",
      "Requirement already satisfied: typing-extensions>=3.7.4.3 in c:\\users\\merak\\appdata\\local\\programs\\python\\python310\\lib\\site-packages (from huggingface-hub<1.0,>=0.30.0->transformers) (4.13.2)\n",
      "Requirement already satisfied: colorama in c:\\users\\merak\\appdata\\local\\programs\\python\\python310\\lib\\site-packages (from tqdm>=4.27->transformers) (0.4.6)\n",
      "Requirement already satisfied: charset-normalizer<4,>=2 in c:\\users\\merak\\appdata\\local\\programs\\python\\python310\\lib\\site-packages (from requests->transformers) (3.4.2)\n",
      "Requirement already satisfied: idna<4,>=2.5 in c:\\users\\merak\\appdata\\local\\programs\\python\\python310\\lib\\site-packages (from requests->transformers) (3.10)\n",
      "Requirement already satisfied: urllib3<3,>=1.21.1 in c:\\users\\merak\\appdata\\local\\programs\\python\\python310\\lib\\site-packages (from requests->transformers) (2.4.0)\n",
      "Requirement already satisfied: certifi>=2017.4.17 in c:\\users\\merak\\appdata\\local\\programs\\python\\python310\\lib\\site-packages (from requests->transformers) (2025.4.26)\n"
     ]
    }
   ],
   "source": [
    "!pip install transformers"
   ]
  },
  {
   "cell_type": "code",
   "execution_count": 74,
   "metadata": {
    "id": "8DORVU8Eak2-"
   },
   "outputs": [
    {
     "name": "stderr",
     "output_type": "stream",
     "text": [
      "C:\\Users\\merak\\tf-env\\lib\\site-packages\\tqdm\\auto.py:21: TqdmWarning: IProgress not found. Please update jupyter and ipywidgets. See https://ipywidgets.readthedocs.io/en/stable/user_install.html\n",
      "  from .autonotebook import tqdm as notebook_tqdm\n"
     ]
    }
   ],
   "source": [
    "from transformers import pipeline"
   ]
  },
  {
   "cell_type": "code",
   "execution_count": null,
   "metadata": {
    "colab": {
     "base_uri": "https://localhost:8080/"
    },
    "id": "VsMdQFsXanWP",
    "outputId": "a5ffcdc7-7b9d-4c57-a8e4-423301c16874"
   },
   "outputs": [
    {
     "name": "stderr",
     "output_type": "stream",
     "text": [
      "Device set to use cpu\n"
     ]
    }
   ],
   "source": [
    "# ❌ DON'T RUN THIS CODE THIS CODE WILL TAKE ARROUND 4 TO 5 HOURS\n",
    "\n",
    "# using prebuild model distilber-base-uncased-finetunned-sst-2-english\n",
    "classifier = pipeline(\"sentiment-analysis\",model=\"distilbert-base-uncased-finetuned-sst-2-english\",framework=\"pt\")\n",
    "\n",
    "# Make predictions using model\n",
    "results = classifier(list(df[\"text\"]), truncation=True, batch_size=32)\n",
    "\n",
    "output = [[1,res[\"score\"]] if res[\"label\"] == \"POSITIVE\" else [0,res[\"score\"]] for res in results]\n",
    "prediction_only = [res[0] for res in output]\n",
    "predictions = { \"predictions\": prediction_only, \"prediction_scores\": output }\n",
    "\n",
    "def get_correct_classified(y_true, y_pred, confidence_threshold=0.85):\n",
    "    misclassified = []\n",
    "    i = 0\n",
    "    for actual in y_true:\n",
    "        if actual != y_pred[i][0] and y_pred[i][1] > confidence_threshold:\n",
    "            misclassified.append(False)\n",
    "        else:\n",
    "          misclassified.append(True)\n",
    "        i += 1\n",
    "\n",
    "    return misclassified\n",
    "\n",
    "# remove all rows which are being misclassified with the confidence of greater than 0.6\n",
    "correct_data_mask = get_correct_classified(df[\"label\"], predictions[\"prediction_scores\"], confidence_threshold=0.60)\n",
    "cleaned_df = df[correct_data_mask]\n",
    "cleaned_df.to_csv(\"cleaned_data.csv\", index=False)"
   ]
  },
  {
   "cell_type": "markdown",
   "metadata": {
    "id": "TVQ2urFEqZUd"
   },
   "source": [
    "# **Train Machine Learning with cleaned data**"
   ]
  },
  {
   "cell_type": "code",
   "execution_count": 75,
   "metadata": {},
   "outputs": [],
   "source": [
    "from sklearn.feature_extraction.text import TfidfVectorizer\n",
    "from sklearn.model_selection import train_test_split"
   ]
  },
  {
   "cell_type": "code",
   "execution_count": 76,
   "metadata": {
    "id": "cDEsQb65qz-_"
   },
   "outputs": [],
   "source": [
    "cleaned_df = pd.read_csv(\"cleaned_data.csv\")"
   ]
  },
  {
   "cell_type": "code",
   "execution_count": 77,
   "metadata": {
    "id": "-ugdMqLbrDJV"
   },
   "outputs": [],
   "source": [
    "cleaned_df = cleaned_df.dropna()"
   ]
  },
  {
   "cell_type": "code",
   "execution_count": 78,
   "metadata": {
    "id": "CKnpVq3yqfuw"
   },
   "outputs": [],
   "source": [
    "vectorizer1 = TfidfVectorizer(max_features=30000, min_df=5, max_df=0.8)"
   ]
  },
  {
   "cell_type": "code",
   "execution_count": 79,
   "metadata": {
    "id": "T7imal1Kqwxs"
   },
   "outputs": [],
   "source": [
    "X1 = vectorizer1.fit_transform(cleaned_df['text'])\n",
    "y1 = cleaned_df['label']"
   ]
  },
  {
   "cell_type": "code",
   "execution_count": 80,
   "metadata": {
    "id": "kPWO-WY1rRHD"
   },
   "outputs": [],
   "source": [
    "X_train1, X_test1, y_train1, y_test1 = train_test_split(X1, y1, test_size=0.2, random_state=42)"
   ]
  },
  {
   "cell_type": "code",
   "execution_count": 81,
   "metadata": {
    "colab": {
     "base_uri": "https://localhost:8080/",
     "height": 80
    },
    "id": "u27PzWbUrViQ",
    "outputId": "4d1dfa61-3c83-44e6-91cb-e002ffede54d"
   },
   "outputs": [
    {
     "data": {
      "text/html": [
       "<style>#sk-container-id-2 {\n",
       "  /* Definition of color scheme common for light and dark mode */\n",
       "  --sklearn-color-text: #000;\n",
       "  --sklearn-color-text-muted: #666;\n",
       "  --sklearn-color-line: gray;\n",
       "  /* Definition of color scheme for unfitted estimators */\n",
       "  --sklearn-color-unfitted-level-0: #fff5e6;\n",
       "  --sklearn-color-unfitted-level-1: #f6e4d2;\n",
       "  --sklearn-color-unfitted-level-2: #ffe0b3;\n",
       "  --sklearn-color-unfitted-level-3: chocolate;\n",
       "  /* Definition of color scheme for fitted estimators */\n",
       "  --sklearn-color-fitted-level-0: #f0f8ff;\n",
       "  --sklearn-color-fitted-level-1: #d4ebff;\n",
       "  --sklearn-color-fitted-level-2: #b3dbfd;\n",
       "  --sklearn-color-fitted-level-3: cornflowerblue;\n",
       "\n",
       "  /* Specific color for light theme */\n",
       "  --sklearn-color-text-on-default-background: var(--sg-text-color, var(--theme-code-foreground, var(--jp-content-font-color1, black)));\n",
       "  --sklearn-color-background: var(--sg-background-color, var(--theme-background, var(--jp-layout-color0, white)));\n",
       "  --sklearn-color-border-box: var(--sg-text-color, var(--theme-code-foreground, var(--jp-content-font-color1, black)));\n",
       "  --sklearn-color-icon: #696969;\n",
       "\n",
       "  @media (prefers-color-scheme: dark) {\n",
       "    /* Redefinition of color scheme for dark theme */\n",
       "    --sklearn-color-text-on-default-background: var(--sg-text-color, var(--theme-code-foreground, var(--jp-content-font-color1, white)));\n",
       "    --sklearn-color-background: var(--sg-background-color, var(--theme-background, var(--jp-layout-color0, #111)));\n",
       "    --sklearn-color-border-box: var(--sg-text-color, var(--theme-code-foreground, var(--jp-content-font-color1, white)));\n",
       "    --sklearn-color-icon: #878787;\n",
       "  }\n",
       "}\n",
       "\n",
       "#sk-container-id-2 {\n",
       "  color: var(--sklearn-color-text);\n",
       "}\n",
       "\n",
       "#sk-container-id-2 pre {\n",
       "  padding: 0;\n",
       "}\n",
       "\n",
       "#sk-container-id-2 input.sk-hidden--visually {\n",
       "  border: 0;\n",
       "  clip: rect(1px 1px 1px 1px);\n",
       "  clip: rect(1px, 1px, 1px, 1px);\n",
       "  height: 1px;\n",
       "  margin: -1px;\n",
       "  overflow: hidden;\n",
       "  padding: 0;\n",
       "  position: absolute;\n",
       "  width: 1px;\n",
       "}\n",
       "\n",
       "#sk-container-id-2 div.sk-dashed-wrapped {\n",
       "  border: 1px dashed var(--sklearn-color-line);\n",
       "  margin: 0 0.4em 0.5em 0.4em;\n",
       "  box-sizing: border-box;\n",
       "  padding-bottom: 0.4em;\n",
       "  background-color: var(--sklearn-color-background);\n",
       "}\n",
       "\n",
       "#sk-container-id-2 div.sk-container {\n",
       "  /* jupyter's `normalize.less` sets `[hidden] { display: none; }`\n",
       "     but bootstrap.min.css set `[hidden] { display: none !important; }`\n",
       "     so we also need the `!important` here to be able to override the\n",
       "     default hidden behavior on the sphinx rendered scikit-learn.org.\n",
       "     See: https://github.com/scikit-learn/scikit-learn/issues/21755 */\n",
       "  display: inline-block !important;\n",
       "  position: relative;\n",
       "}\n",
       "\n",
       "#sk-container-id-2 div.sk-text-repr-fallback {\n",
       "  display: none;\n",
       "}\n",
       "\n",
       "div.sk-parallel-item,\n",
       "div.sk-serial,\n",
       "div.sk-item {\n",
       "  /* draw centered vertical line to link estimators */\n",
       "  background-image: linear-gradient(var(--sklearn-color-text-on-default-background), var(--sklearn-color-text-on-default-background));\n",
       "  background-size: 2px 100%;\n",
       "  background-repeat: no-repeat;\n",
       "  background-position: center center;\n",
       "}\n",
       "\n",
       "/* Parallel-specific style estimator block */\n",
       "\n",
       "#sk-container-id-2 div.sk-parallel-item::after {\n",
       "  content: \"\";\n",
       "  width: 100%;\n",
       "  border-bottom: 2px solid var(--sklearn-color-text-on-default-background);\n",
       "  flex-grow: 1;\n",
       "}\n",
       "\n",
       "#sk-container-id-2 div.sk-parallel {\n",
       "  display: flex;\n",
       "  align-items: stretch;\n",
       "  justify-content: center;\n",
       "  background-color: var(--sklearn-color-background);\n",
       "  position: relative;\n",
       "}\n",
       "\n",
       "#sk-container-id-2 div.sk-parallel-item {\n",
       "  display: flex;\n",
       "  flex-direction: column;\n",
       "}\n",
       "\n",
       "#sk-container-id-2 div.sk-parallel-item:first-child::after {\n",
       "  align-self: flex-end;\n",
       "  width: 50%;\n",
       "}\n",
       "\n",
       "#sk-container-id-2 div.sk-parallel-item:last-child::after {\n",
       "  align-self: flex-start;\n",
       "  width: 50%;\n",
       "}\n",
       "\n",
       "#sk-container-id-2 div.sk-parallel-item:only-child::after {\n",
       "  width: 0;\n",
       "}\n",
       "\n",
       "/* Serial-specific style estimator block */\n",
       "\n",
       "#sk-container-id-2 div.sk-serial {\n",
       "  display: flex;\n",
       "  flex-direction: column;\n",
       "  align-items: center;\n",
       "  background-color: var(--sklearn-color-background);\n",
       "  padding-right: 1em;\n",
       "  padding-left: 1em;\n",
       "}\n",
       "\n",
       "\n",
       "/* Toggleable style: style used for estimator/Pipeline/ColumnTransformer box that is\n",
       "clickable and can be expanded/collapsed.\n",
       "- Pipeline and ColumnTransformer use this feature and define the default style\n",
       "- Estimators will overwrite some part of the style using the `sk-estimator` class\n",
       "*/\n",
       "\n",
       "/* Pipeline and ColumnTransformer style (default) */\n",
       "\n",
       "#sk-container-id-2 div.sk-toggleable {\n",
       "  /* Default theme specific background. It is overwritten whether we have a\n",
       "  specific estimator or a Pipeline/ColumnTransformer */\n",
       "  background-color: var(--sklearn-color-background);\n",
       "}\n",
       "\n",
       "/* Toggleable label */\n",
       "#sk-container-id-2 label.sk-toggleable__label {\n",
       "  cursor: pointer;\n",
       "  display: flex;\n",
       "  width: 100%;\n",
       "  margin-bottom: 0;\n",
       "  padding: 0.5em;\n",
       "  box-sizing: border-box;\n",
       "  text-align: center;\n",
       "  align-items: start;\n",
       "  justify-content: space-between;\n",
       "  gap: 0.5em;\n",
       "}\n",
       "\n",
       "#sk-container-id-2 label.sk-toggleable__label .caption {\n",
       "  font-size: 0.6rem;\n",
       "  font-weight: lighter;\n",
       "  color: var(--sklearn-color-text-muted);\n",
       "}\n",
       "\n",
       "#sk-container-id-2 label.sk-toggleable__label-arrow:before {\n",
       "  /* Arrow on the left of the label */\n",
       "  content: \"▸\";\n",
       "  float: left;\n",
       "  margin-right: 0.25em;\n",
       "  color: var(--sklearn-color-icon);\n",
       "}\n",
       "\n",
       "#sk-container-id-2 label.sk-toggleable__label-arrow:hover:before {\n",
       "  color: var(--sklearn-color-text);\n",
       "}\n",
       "\n",
       "/* Toggleable content - dropdown */\n",
       "\n",
       "#sk-container-id-2 div.sk-toggleable__content {\n",
       "  max-height: 0;\n",
       "  max-width: 0;\n",
       "  overflow: hidden;\n",
       "  text-align: left;\n",
       "  /* unfitted */\n",
       "  background-color: var(--sklearn-color-unfitted-level-0);\n",
       "}\n",
       "\n",
       "#sk-container-id-2 div.sk-toggleable__content.fitted {\n",
       "  /* fitted */\n",
       "  background-color: var(--sklearn-color-fitted-level-0);\n",
       "}\n",
       "\n",
       "#sk-container-id-2 div.sk-toggleable__content pre {\n",
       "  margin: 0.2em;\n",
       "  border-radius: 0.25em;\n",
       "  color: var(--sklearn-color-text);\n",
       "  /* unfitted */\n",
       "  background-color: var(--sklearn-color-unfitted-level-0);\n",
       "}\n",
       "\n",
       "#sk-container-id-2 div.sk-toggleable__content.fitted pre {\n",
       "  /* unfitted */\n",
       "  background-color: var(--sklearn-color-fitted-level-0);\n",
       "}\n",
       "\n",
       "#sk-container-id-2 input.sk-toggleable__control:checked~div.sk-toggleable__content {\n",
       "  /* Expand drop-down */\n",
       "  max-height: 200px;\n",
       "  max-width: 100%;\n",
       "  overflow: auto;\n",
       "}\n",
       "\n",
       "#sk-container-id-2 input.sk-toggleable__control:checked~label.sk-toggleable__label-arrow:before {\n",
       "  content: \"▾\";\n",
       "}\n",
       "\n",
       "/* Pipeline/ColumnTransformer-specific style */\n",
       "\n",
       "#sk-container-id-2 div.sk-label input.sk-toggleable__control:checked~label.sk-toggleable__label {\n",
       "  color: var(--sklearn-color-text);\n",
       "  background-color: var(--sklearn-color-unfitted-level-2);\n",
       "}\n",
       "\n",
       "#sk-container-id-2 div.sk-label.fitted input.sk-toggleable__control:checked~label.sk-toggleable__label {\n",
       "  background-color: var(--sklearn-color-fitted-level-2);\n",
       "}\n",
       "\n",
       "/* Estimator-specific style */\n",
       "\n",
       "/* Colorize estimator box */\n",
       "#sk-container-id-2 div.sk-estimator input.sk-toggleable__control:checked~label.sk-toggleable__label {\n",
       "  /* unfitted */\n",
       "  background-color: var(--sklearn-color-unfitted-level-2);\n",
       "}\n",
       "\n",
       "#sk-container-id-2 div.sk-estimator.fitted input.sk-toggleable__control:checked~label.sk-toggleable__label {\n",
       "  /* fitted */\n",
       "  background-color: var(--sklearn-color-fitted-level-2);\n",
       "}\n",
       "\n",
       "#sk-container-id-2 div.sk-label label.sk-toggleable__label,\n",
       "#sk-container-id-2 div.sk-label label {\n",
       "  /* The background is the default theme color */\n",
       "  color: var(--sklearn-color-text-on-default-background);\n",
       "}\n",
       "\n",
       "/* On hover, darken the color of the background */\n",
       "#sk-container-id-2 div.sk-label:hover label.sk-toggleable__label {\n",
       "  color: var(--sklearn-color-text);\n",
       "  background-color: var(--sklearn-color-unfitted-level-2);\n",
       "}\n",
       "\n",
       "/* Label box, darken color on hover, fitted */\n",
       "#sk-container-id-2 div.sk-label.fitted:hover label.sk-toggleable__label.fitted {\n",
       "  color: var(--sklearn-color-text);\n",
       "  background-color: var(--sklearn-color-fitted-level-2);\n",
       "}\n",
       "\n",
       "/* Estimator label */\n",
       "\n",
       "#sk-container-id-2 div.sk-label label {\n",
       "  font-family: monospace;\n",
       "  font-weight: bold;\n",
       "  display: inline-block;\n",
       "  line-height: 1.2em;\n",
       "}\n",
       "\n",
       "#sk-container-id-2 div.sk-label-container {\n",
       "  text-align: center;\n",
       "}\n",
       "\n",
       "/* Estimator-specific */\n",
       "#sk-container-id-2 div.sk-estimator {\n",
       "  font-family: monospace;\n",
       "  border: 1px dotted var(--sklearn-color-border-box);\n",
       "  border-radius: 0.25em;\n",
       "  box-sizing: border-box;\n",
       "  margin-bottom: 0.5em;\n",
       "  /* unfitted */\n",
       "  background-color: var(--sklearn-color-unfitted-level-0);\n",
       "}\n",
       "\n",
       "#sk-container-id-2 div.sk-estimator.fitted {\n",
       "  /* fitted */\n",
       "  background-color: var(--sklearn-color-fitted-level-0);\n",
       "}\n",
       "\n",
       "/* on hover */\n",
       "#sk-container-id-2 div.sk-estimator:hover {\n",
       "  /* unfitted */\n",
       "  background-color: var(--sklearn-color-unfitted-level-2);\n",
       "}\n",
       "\n",
       "#sk-container-id-2 div.sk-estimator.fitted:hover {\n",
       "  /* fitted */\n",
       "  background-color: var(--sklearn-color-fitted-level-2);\n",
       "}\n",
       "\n",
       "/* Specification for estimator info (e.g. \"i\" and \"?\") */\n",
       "\n",
       "/* Common style for \"i\" and \"?\" */\n",
       "\n",
       ".sk-estimator-doc-link,\n",
       "a:link.sk-estimator-doc-link,\n",
       "a:visited.sk-estimator-doc-link {\n",
       "  float: right;\n",
       "  font-size: smaller;\n",
       "  line-height: 1em;\n",
       "  font-family: monospace;\n",
       "  background-color: var(--sklearn-color-background);\n",
       "  border-radius: 1em;\n",
       "  height: 1em;\n",
       "  width: 1em;\n",
       "  text-decoration: none !important;\n",
       "  margin-left: 0.5em;\n",
       "  text-align: center;\n",
       "  /* unfitted */\n",
       "  border: var(--sklearn-color-unfitted-level-1) 1pt solid;\n",
       "  color: var(--sklearn-color-unfitted-level-1);\n",
       "}\n",
       "\n",
       ".sk-estimator-doc-link.fitted,\n",
       "a:link.sk-estimator-doc-link.fitted,\n",
       "a:visited.sk-estimator-doc-link.fitted {\n",
       "  /* fitted */\n",
       "  border: var(--sklearn-color-fitted-level-1) 1pt solid;\n",
       "  color: var(--sklearn-color-fitted-level-1);\n",
       "}\n",
       "\n",
       "/* On hover */\n",
       "div.sk-estimator:hover .sk-estimator-doc-link:hover,\n",
       ".sk-estimator-doc-link:hover,\n",
       "div.sk-label-container:hover .sk-estimator-doc-link:hover,\n",
       ".sk-estimator-doc-link:hover {\n",
       "  /* unfitted */\n",
       "  background-color: var(--sklearn-color-unfitted-level-3);\n",
       "  color: var(--sklearn-color-background);\n",
       "  text-decoration: none;\n",
       "}\n",
       "\n",
       "div.sk-estimator.fitted:hover .sk-estimator-doc-link.fitted:hover,\n",
       ".sk-estimator-doc-link.fitted:hover,\n",
       "div.sk-label-container:hover .sk-estimator-doc-link.fitted:hover,\n",
       ".sk-estimator-doc-link.fitted:hover {\n",
       "  /* fitted */\n",
       "  background-color: var(--sklearn-color-fitted-level-3);\n",
       "  color: var(--sklearn-color-background);\n",
       "  text-decoration: none;\n",
       "}\n",
       "\n",
       "/* Span, style for the box shown on hovering the info icon */\n",
       ".sk-estimator-doc-link span {\n",
       "  display: none;\n",
       "  z-index: 9999;\n",
       "  position: relative;\n",
       "  font-weight: normal;\n",
       "  right: .2ex;\n",
       "  padding: .5ex;\n",
       "  margin: .5ex;\n",
       "  width: min-content;\n",
       "  min-width: 20ex;\n",
       "  max-width: 50ex;\n",
       "  color: var(--sklearn-color-text);\n",
       "  box-shadow: 2pt 2pt 4pt #999;\n",
       "  /* unfitted */\n",
       "  background: var(--sklearn-color-unfitted-level-0);\n",
       "  border: .5pt solid var(--sklearn-color-unfitted-level-3);\n",
       "}\n",
       "\n",
       ".sk-estimator-doc-link.fitted span {\n",
       "  /* fitted */\n",
       "  background: var(--sklearn-color-fitted-level-0);\n",
       "  border: var(--sklearn-color-fitted-level-3);\n",
       "}\n",
       "\n",
       ".sk-estimator-doc-link:hover span {\n",
       "  display: block;\n",
       "}\n",
       "\n",
       "/* \"?\"-specific style due to the `<a>` HTML tag */\n",
       "\n",
       "#sk-container-id-2 a.estimator_doc_link {\n",
       "  float: right;\n",
       "  font-size: 1rem;\n",
       "  line-height: 1em;\n",
       "  font-family: monospace;\n",
       "  background-color: var(--sklearn-color-background);\n",
       "  border-radius: 1rem;\n",
       "  height: 1rem;\n",
       "  width: 1rem;\n",
       "  text-decoration: none;\n",
       "  /* unfitted */\n",
       "  color: var(--sklearn-color-unfitted-level-1);\n",
       "  border: var(--sklearn-color-unfitted-level-1) 1pt solid;\n",
       "}\n",
       "\n",
       "#sk-container-id-2 a.estimator_doc_link.fitted {\n",
       "  /* fitted */\n",
       "  border: var(--sklearn-color-fitted-level-1) 1pt solid;\n",
       "  color: var(--sklearn-color-fitted-level-1);\n",
       "}\n",
       "\n",
       "/* On hover */\n",
       "#sk-container-id-2 a.estimator_doc_link:hover {\n",
       "  /* unfitted */\n",
       "  background-color: var(--sklearn-color-unfitted-level-3);\n",
       "  color: var(--sklearn-color-background);\n",
       "  text-decoration: none;\n",
       "}\n",
       "\n",
       "#sk-container-id-2 a.estimator_doc_link.fitted:hover {\n",
       "  /* fitted */\n",
       "  background-color: var(--sklearn-color-fitted-level-3);\n",
       "}\n",
       "</style><div id=\"sk-container-id-2\" class=\"sk-top-container\"><div class=\"sk-text-repr-fallback\"><pre>LogisticRegression(max_iter=1000)</pre><b>In a Jupyter environment, please rerun this cell to show the HTML representation or trust the notebook. <br />On GitHub, the HTML representation is unable to render, please try loading this page with nbviewer.org.</b></div><div class=\"sk-container\" hidden><div class=\"sk-item\"><div class=\"sk-estimator fitted sk-toggleable\"><input class=\"sk-toggleable__control sk-hidden--visually\" id=\"sk-estimator-id-2\" type=\"checkbox\" checked><label for=\"sk-estimator-id-2\" class=\"sk-toggleable__label fitted sk-toggleable__label-arrow\"><div><div>LogisticRegression</div></div><div><a class=\"sk-estimator-doc-link fitted\" rel=\"noreferrer\" target=\"_blank\" href=\"https://scikit-learn.org/1.6/modules/generated/sklearn.linear_model.LogisticRegression.html\">?<span>Documentation for LogisticRegression</span></a><span class=\"sk-estimator-doc-link fitted\">i<span>Fitted</span></span></div></label><div class=\"sk-toggleable__content fitted\"><pre>LogisticRegression(max_iter=1000)</pre></div> </div></div></div></div>"
      ],
      "text/plain": [
       "LogisticRegression(max_iter=1000)"
      ]
     },
     "execution_count": 81,
     "metadata": {},
     "output_type": "execute_result"
    }
   ],
   "source": [
    "# Training LogisticRegression model\n",
    "lg_model1 = LogisticRegression(max_iter=1000)\n",
    "lg_model1.fit(X_train1, y_train1)"
   ]
  },
  {
   "cell_type": "code",
   "execution_count": 82,
   "metadata": {
    "colab": {
     "base_uri": "https://localhost:8080/"
    },
    "id": "2ANOp5J7remw",
    "outputId": "c99cee76-7c13-4cb3-ba1a-40f742f94de6"
   },
   "outputs": [
    {
     "name": "stdout",
     "output_type": "stream",
     "text": [
      "Accuracy: 0.9264579275578179\n",
      "\n",
      "Confusion Matrix:\n",
      " [[173671  10664]\n",
      " [ 11802 109348]]\n",
      "\n",
      "Classification Report:\n",
      "               precision    recall  f1-score   support\n",
      "\n",
      "           0       0.94      0.94      0.94    184335\n",
      "           1       0.91      0.90      0.91    121150\n",
      "\n",
      "    accuracy                           0.93    305485\n",
      "   macro avg       0.92      0.92      0.92    305485\n",
      "weighted avg       0.93      0.93      0.93    305485\n",
      "\n"
     ]
    }
   ],
   "source": [
    "y_pred1 = lg_model1.predict(X_test1)\n",
    "\n",
    "print(\"Accuracy:\", accuracy_score(y_test1, y_pred1))\n",
    "print(\"\\nConfusion Matrix:\\n\", confusion_matrix(y_test1, y_pred1))\n",
    "print(\"\\nClassification Report:\\n\", classification_report(y_test1, y_pred1))"
   ]
  },
  {
   "cell_type": "code",
   "execution_count": 83,
   "metadata": {
    "colab": {
     "base_uri": "https://localhost:8080/"
    },
    "id": "Tssh27rUr50O",
    "outputId": "3107f710-7fde-4b7b-c8e9-e940a86d772b"
   },
   "outputs": [
    {
     "name": "stdout",
     "output_type": "stream",
     "text": [
      "SVM Accuracy: 0.9297608720559111\n",
      "\n",
      "Classification Report for SVM:\n",
      "               precision    recall  f1-score   support\n",
      "\n",
      "           0       0.94      0.94      0.94    184335\n",
      "           1       0.91      0.91      0.91    121150\n",
      "\n",
      "    accuracy                           0.93    305485\n",
      "   macro avg       0.93      0.93      0.93    305485\n",
      "weighted avg       0.93      0.93      0.93    305485\n",
      "\n",
      "\n",
      "Confusion Matrix for SVM:\n",
      " [[173501  10834]\n",
      " [ 10623 110527]]\n"
     ]
    }
   ],
   "source": [
    "# Training Support Vector Machine\n",
    "\n",
    "svm_model1 = LinearSVC(max_iter=1000)\n",
    "svm_model1.fit(X_train1, y_train1)\n",
    "\n",
    "y_pred_svm1 = svm_model1.predict(X_test1)\n",
    "\n",
    "print(\"SVM Accuracy:\", accuracy_score(y_test1, y_pred_svm1))\n",
    "print(\"\\nClassification Report for SVM:\\n\", classification_report(y_test1, y_pred_svm1))\n",
    "print(\"\\nConfusion Matrix for SVM:\\n\", confusion_matrix(y_test1, y_pred_svm1))"
   ]
  },
  {
   "cell_type": "code",
   "execution_count": 84,
   "metadata": {
    "colab": {
     "base_uri": "https://localhost:8080/"
    },
    "id": "oPaUvj9LsGdX",
    "outputId": "002180bb-238e-47f9-d218-ce2d7efffd71"
   },
   "outputs": [
    {
     "name": "stdout",
     "output_type": "stream",
     "text": [
      "Random Forest Accuracy: 0.6332356744193659\n",
      "\n",
      "Classification Report for RF:\n",
      "               precision    recall  f1-score   support\n",
      "\n",
      "           0       0.62      1.00      0.77    184335\n",
      "           1       0.99      0.08      0.14    121150\n",
      "\n",
      "    accuracy                           0.63    305485\n",
      "   macro avg       0.81      0.54      0.45    305485\n",
      "weighted avg       0.77      0.63      0.52    305485\n",
      "\n",
      "\n",
      "Confusion Matrix for RF:\n",
      " [[184270     65]\n",
      " [111976   9174]]\n"
     ]
    }
   ],
   "source": [
    "# Training Random Forest\n",
    "\n",
    "rf_model1 = RandomForestClassifier(n_estimators=50, random_state=42, n_jobs=-1, max_depth=20)\n",
    "rf_model1.fit(X_train1, y_train1)\n",
    "\n",
    "y_pred_rf1 = rf_model1.predict(X_test1)\n",
    "\n",
    "print(\"Random Forest Accuracy:\", accuracy_score(y_test1, y_pred_rf1))\n",
    "print(\"\\nClassification Report for RF:\\n\", classification_report(y_test1, y_pred_rf1))\n",
    "print(\"\\nConfusion Matrix for RF:\\n\", confusion_matrix(y_test1, y_pred_rf1))"
   ]
  },
  {
   "cell_type": "code",
   "execution_count": 85,
   "metadata": {
    "colab": {
     "base_uri": "https://localhost:8080/"
    },
    "id": "i3CL5lKasaYJ",
    "outputId": "d359db03-f986-44d1-d895-b7be0853fa07"
   },
   "outputs": [
    {
     "name": "stdout",
     "output_type": "stream",
     "text": [
      "Naive Bayes Accuracy: 0.510070870910192\n",
      "\n",
      "Classification Report for NB:\n",
      "               precision    recall  f1-score   support\n",
      "\n",
      "           0       0.64      0.42      0.51    184335\n",
      "           1       0.42      0.65      0.51    121150\n",
      "\n",
      "    accuracy                           0.51    305485\n",
      "   macro avg       0.53      0.53      0.51    305485\n",
      "weighted avg       0.56      0.51      0.51    305485\n",
      "\n",
      "\n",
      "Confusion Matrix for NB:\n",
      " [[ 77145 107190]\n",
      " [ 42476  78674]]\n"
     ]
    }
   ],
   "source": [
    "# Training Naive Bayes Classifier\n",
    "\n",
    "nb_model1 = MultinomialNB()\n",
    "nb_model1.fit(X_train1, y_train1)\n",
    "\n",
    "y_pred_nb1 = nb_model.predict(X_test1)\n",
    "\n",
    "print(\"Naive Bayes Accuracy:\", accuracy_score(y_test1, y_pred_nb1))\n",
    "print(\"\\nClassification Report for NB:\\n\", classification_report(y_test1, y_pred_nb1))\n",
    "print(\"\\nConfusion Matrix for NB:\\n\", confusion_matrix(y_test1, y_pred_nb1))"
   ]
  },
  {
   "cell_type": "markdown",
   "metadata": {
    "id": "8JvGGTywuaX3"
   },
   "source": [
    "# **Finalizing the model**"
   ]
  },
  {
   "cell_type": "code",
   "execution_count": 86,
   "metadata": {
    "colab": {
     "base_uri": "https://localhost:8080/"
    },
    "id": "YqudKfQNuE94",
    "outputId": "dec42136-7a8c-463b-8aa9-ea9ce6278729"
   },
   "outputs": [
    {
     "name": "stdout",
     "output_type": "stream",
     "text": [
      "Cross-Validation Accuracy: 0.9223966636757979\n"
     ]
    }
   ],
   "source": [
    "# cross validation with svm\n",
    "from sklearn.model_selection import cross_val_score\n",
    "scores = cross_val_score(svm_model1, X1, y1, cv=5, scoring='accuracy')\n",
    "print(\"Cross-Validation Accuracy:\", scores.mean())"
   ]
  },
  {
   "cell_type": "code",
   "execution_count": 87,
   "metadata": {
    "id": "qJHz4-i0uo_b"
   },
   "outputs": [],
   "source": [
    "# saving all the models\n",
    "\n",
    "import os\n",
    "import pickle\n",
    "\n",
    "final_folder = 'models/final'\n",
    "os.makedirs(final_folder, exist_ok=True)\n",
    "\n",
    "# Save TF-IDF vectorizer\n",
    "with open(os.path.join(final_folder, 'final_vectorizer.pkl'), 'wb') as f:\n",
    "    pickle.dump(vectorizer1, f)\n",
    "\n",
    "with open(os.path.join(final_folder,\"svm.pkl\"), 'wb') as f:\n",
    "    pickle.dump(svm_model1,f)\n",
    "\n",
    "with open(os.path.join(final_folder,\"logistic.pkl\"), 'wb') as f:\n",
    "    pickle.dump(svm_model1,f)"
   ]
  }
 ],
 "metadata": {
  "accelerator": "GPU",
  "colab": {
   "collapsed_sections": [
    "FdHqQD_Ed5T8",
    "WsvZGx3g9Tng",
    "Fh9ZDl9KkM26"
   ],
   "gpuType": "T4",
   "provenance": []
  },
  "kernelspec": {
   "display_name": "Python (tf-env)",
   "language": "python",
   "name": "tf-env"
  },
  "language_info": {
   "codemirror_mode": {
    "name": "ipython",
    "version": 3
   },
   "file_extension": ".py",
   "mimetype": "text/x-python",
   "name": "python",
   "nbconvert_exporter": "python",
   "pygments_lexer": "ipython3",
   "version": "3.10.0"
  }
 },
 "nbformat": 4,
 "nbformat_minor": 4
}
